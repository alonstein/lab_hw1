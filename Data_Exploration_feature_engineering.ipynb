{
 "cells": [
  {
   "cell_type": "code",
   "execution_count": 1,
   "metadata": {},
   "outputs": [],
   "source": [
    "import pandas as pd\n",
    "import re\n",
    "import ast\n",
    "from sklearn.preprocessing import MultiLabelBinarizer\n",
    "import matplotlib.pyplot as plt\n",
    "import numpy as np"
   ]
  },
  {
   "cell_type": "code",
   "execution_count": 2,
   "metadata": {},
   "outputs": [],
   "source": [
    "df = pd.read_csv('train.tsv',sep='\\t')"
   ]
  },
  {
   "cell_type": "markdown",
   "metadata": {},
   "source": [
    "<font size=\"5\" >Features</font>"
   ]
  },
  {
   "cell_type": "code",
   "execution_count": 3,
   "metadata": {},
   "outputs": [
    {
     "data": {
      "text/plain": [
       "Index(['backdrop_path', 'belongs_to_collection', 'budget', 'genres',\n",
       "       'homepage', 'id', 'imdb_id', 'original_language', 'original_title',\n",
       "       'overview', 'popularity', 'poster_path', 'production_companies',\n",
       "       'production_countries', 'release_date', 'revenue', 'runtime',\n",
       "       'spoken_languages', 'status', 'tagline', 'title', 'video',\n",
       "       'vote_average', 'vote_count', 'Keywords', 'cast', 'crew'],\n",
       "      dtype='object')"
      ]
     },
     "execution_count": 3,
     "metadata": {},
     "output_type": "execute_result"
    }
   ],
   "source": [
    "df.columns"
   ]
  },
  {
   "cell_type": "code",
   "execution_count": 4,
   "metadata": {},
   "outputs": [],
   "source": [
    "df['ln_revenue'] = np.log(df['revenue'])"
   ]
  },
  {
   "cell_type": "markdown",
   "metadata": {},
   "source": [
    "<font size=\"4\" >\n",
    "    backdrop_path:\n",
    "</font>\n",
    "\n",
    "Links to some images - removed from the analysis"
   ]
  },
  {
   "cell_type": "code",
   "execution_count": 5,
   "metadata": {},
   "outputs": [
    {
     "data": {
      "text/plain": [
       "0       /7IBpOrw0ATwL1AOV97mtsceDpYs.jpg\n",
       "1       /lYeE7k0OR3HXyoq7FeswyaxFJvL.jpg\n",
       "2       /gVXLIfMR2hLmkn0nACctlMCJBfx.jpg\n",
       "3       /rKjE17ncAGNzeImNWbdGTimzjtk.jpg\n",
       "4       /zcJxJVhvxNHJJ2J7Q7NhgO9nPUV.jpg\n",
       "                      ...               \n",
       "5210                                 NaN\n",
       "5211    /sOw7TZzt3vRQXXCrwdspSHwCJDR.jpg\n",
       "5212    /5txDq5g0JeCKpemRM2CpT7H2aP3.jpg\n",
       "5213    /1dXTsaFxHoF9cas08UjAqE8NqOW.jpg\n",
       "5214    /yZjbReSRgTGf5IZPmwpecPgm1Z1.jpg\n",
       "Name: backdrop_path, Length: 5215, dtype: object"
      ]
     },
     "execution_count": 5,
     "metadata": {},
     "output_type": "execute_result"
    }
   ],
   "source": [
    "df['backdrop_path']"
   ]
  },
  {
   "cell_type": "code",
   "execution_count": 6,
   "metadata": {},
   "outputs": [],
   "source": [
    "df = df.drop(['backdrop_path'], axis=1)"
   ]
  },
  {
   "cell_type": "markdown",
   "metadata": {},
   "source": [
    "<font size=\"4\" >\n",
    "    belongs_to_collection:\n",
    "</font>"
   ]
  },
  {
   "cell_type": "code",
   "execution_count": 7,
   "metadata": {},
   "outputs": [
    {
     "data": {
      "text/plain": [
       "0       {'id': 556, 'name': 'Spider-Man Collection', '...\n",
       "1       {'id': 256296, 'name': 'Silent Night, Deadly N...\n",
       "2                                                     NaN\n",
       "3       {'id': 8917, 'name': 'Hellraiser Collection', ...\n",
       "4       {'id': 108693, 'name': \"National Lampoon's Vac...\n",
       "                              ...                        \n",
       "5210    {'id': 239968, 'name': 'La cage aux folles Col...\n",
       "5211    {'id': 111751, 'name': 'Texas Chainsaw Massacr...\n",
       "5212                                                  NaN\n",
       "5213                                                  NaN\n",
       "5214    {'id': 71458, 'name': '3 Ninjas Collection', '...\n",
       "Name: belongs_to_collection, Length: 5215, dtype: object"
      ]
     },
     "execution_count": 7,
     "metadata": {},
     "output_type": "execute_result"
    }
   ],
   "source": [
    "df['belongs_to_collection']"
   ]
  },
  {
   "cell_type": "code",
   "execution_count": 8,
   "metadata": {},
   "outputs": [],
   "source": [
    "df['no_collection'] = df['belongs_to_collection'].isna().astype(int)"
   ]
  },
  {
   "cell_type": "code",
   "execution_count": 9,
   "metadata": {},
   "outputs": [],
   "source": [
    "df['belongs_to_collection'] = df['belongs_to_collection'].apply(lambda x:str(ast.literal_eval(x)['id']) if pd.notnull(x) else x)"
   ]
  },
  {
   "cell_type": "code",
   "execution_count": 10,
   "metadata": {},
   "outputs": [
    {
     "data": {
      "text/plain": [
       "belongs_to_collection\n",
       "100286     0.005129\n",
       "1006       1.167709\n",
       "101471    13.183047\n",
       "10194      0.195723\n",
       "102322     0.100606\n",
       "            ...    \n",
       "9735       0.644848\n",
       "97445      0.333751\n",
       "97771      2.308253\n",
       "98580      0.189289\n",
       "9887       1.579892\n",
       "Name: ln_revenue, Length: 240, dtype: float64"
      ]
     },
     "execution_count": 10,
     "metadata": {},
     "output_type": "execute_result"
    }
   ],
   "source": [
    "df.groupby('belongs_to_collection')['ln_revenue'].var().dropna()"
   ]
  },
  {
   "cell_type": "code",
   "execution_count": 11,
   "metadata": {},
   "outputs": [
    {
     "data": {
      "text/plain": [
       "9.525428322464313"
      ]
     },
     "execution_count": 11,
     "metadata": {},
     "output_type": "execute_result"
    }
   ],
   "source": [
    "df['ln_revenue'].var()"
   ]
  },
  {
   "cell_type": "code",
   "execution_count": 12,
   "metadata": {},
   "outputs": [
    {
     "data": {
      "text/plain": [
       "731     74237563\n",
       "2499    82150642\n",
       "Name: revenue, dtype: int64"
      ]
     },
     "execution_count": 12,
     "metadata": {},
     "output_type": "execute_result"
    }
   ],
   "source": [
    "df[df['belongs_to_collection']=='100286']['revenue']"
   ]
  },
  {
   "cell_type": "code",
   "execution_count": null,
   "metadata": {},
   "outputs": [],
   "source": []
  },
  {
   "cell_type": "markdown",
   "metadata": {},
   "source": [
    "<font size=\"4\" >\n",
    "    spoken_languages: \n",
    "</font>\n",
    "\n",
    "This feature includes the languages in which the movie is in. We transform it to a format of lists of the available languages and then to one hot encoding of available languages. Most of the languages appear in few movies so we keep only those with more then 5 movies (41 of 89)."
   ]
  },
  {
   "cell_type": "code",
   "execution_count": 16,
   "metadata": {},
   "outputs": [
    {
     "data": {
      "text/plain": [
       "0       [{'iso_639_1': 'en', 'name': 'English'}, {'iso...\n",
       "1                [{'iso_639_1': 'en', 'name': 'English'}]\n",
       "2                [{'iso_639_1': 'en', 'name': 'English'}]\n",
       "3                [{'iso_639_1': 'en', 'name': 'English'}]\n",
       "4                [{'iso_639_1': 'en', 'name': 'English'}]\n",
       "                              ...                        \n",
       "5210            [{'iso_639_1': 'fr', 'name': 'Français'}]\n",
       "5211             [{'iso_639_1': 'en', 'name': 'English'}]\n",
       "5212             [{'iso_639_1': 'en', 'name': 'English'}]\n",
       "5213             [{'iso_639_1': 'en', 'name': 'English'}]\n",
       "5214             [{'iso_639_1': 'en', 'name': 'English'}]\n",
       "Name: spoken_languages, Length: 5215, dtype: object"
      ]
     },
     "execution_count": 16,
     "metadata": {},
     "output_type": "execute_result"
    }
   ],
   "source": [
    "df['spoken_languages']"
   ]
  },
  {
   "cell_type": "code",
   "execution_count": 17,
   "metadata": {},
   "outputs": [],
   "source": [
    "def get_languages_list(item):\n",
    "    item = ast.literal_eval(item)\n",
    "    languages = [language_dict['iso_639_1'] for language_dict in item]\n",
    "    return languages"
   ]
  },
  {
   "cell_type": "code",
   "execution_count": 18,
   "metadata": {},
   "outputs": [],
   "source": [
    "df['spoken_languages'] = df['spoken_languages'].apply(lambda x:get_languages_list(x))"
   ]
  },
  {
   "cell_type": "code",
   "execution_count": 21,
   "metadata": {},
   "outputs": [
    {
     "data": {
      "text/plain": [
       "Text(0, 0.5, 'Count')"
      ]
     },
     "execution_count": 21,
     "metadata": {},
     "output_type": "execute_result"
    },
    {
     "data": {
      "image/png": "[encoded data removed]",
      "text/plain": [
       "<Figure size 432x288 with 1 Axes>"
      ]
     },
     "metadata": {
      "needs_background": "light"
     },
     "output_type": "display_data"
    }
   ],
   "source": [
    "mlb = MultiLabelBinarizer()\n",
    "\n",
    "res = pd.DataFrame(mlb.fit_transform(df['spoken_languages']),\n",
    "                   columns=mlb.classes_,\n",
    "                   index=df.index)\n",
    "res.sum().hist(bins=20)\n",
    "plt.xlabel('Number of movies')\n",
    "plt.ylabel('Count')"
   ]
  },
  {
   "cell_type": "code",
   "execution_count": 22,
   "metadata": {},
   "outputs": [
    {
     "data": {
      "text/plain": [
       "41"
      ]
     },
     "execution_count": 22,
     "metadata": {},
     "output_type": "execute_result"
    }
   ],
   "source": [
    "sum(res.sum()>5)"
   ]
  },
  {
   "cell_type": "code",
   "execution_count": 25,
   "metadata": {},
   "outputs": [],
   "source": [
    "df = pd.concat([df, res], axis=1)"
   ]
  },
  {
   "cell_type": "code",
   "execution_count": 26,
   "metadata": {},
   "outputs": [],
   "source": [
    "df = df.drop(['spoken_languages'], axis=1)"
   ]
  },
  {
   "cell_type": "code",
   "execution_count": 28,
   "metadata": {},
   "outputs": [
    {
     "data": {
      "text/html": [
       "<div>\n",
       "<style scoped>\n",
       "    .dataframe tbody tr th:only-of-type {\n",
       "        vertical-align: middle;\n",
       "    }\n",
       "\n",
       "    .dataframe tbody tr th {\n",
       "        vertical-align: top;\n",
       "    }\n",
       "\n",
       "    .dataframe thead th {\n",
       "        text-align: right;\n",
       "    }\n",
       "</style>\n",
       "<table border=\"1\" class=\"dataframe\">\n",
       "  <thead>\n",
       "    <tr style=\"text-align: right;\">\n",
       "      <th></th>\n",
       "      <th>belongs_to_collection</th>\n",
       "      <th>budget</th>\n",
       "      <th>genres</th>\n",
       "      <th>homepage</th>\n",
       "      <th>id</th>\n",
       "      <th>imdb_id</th>\n",
       "      <th>original_language</th>\n",
       "      <th>original_title</th>\n",
       "      <th>overview</th>\n",
       "      <th>popularity</th>\n",
       "      <th>...</th>\n",
       "      <th>to</th>\n",
       "      <th>tr</th>\n",
       "      <th>uk</th>\n",
       "      <th>ur</th>\n",
       "      <th>vi</th>\n",
       "      <th>xh</th>\n",
       "      <th>xx</th>\n",
       "      <th>yi</th>\n",
       "      <th>zh</th>\n",
       "      <th>zu</th>\n",
       "    </tr>\n",
       "  </thead>\n",
       "  <tbody>\n",
       "    <tr>\n",
       "      <th>0</th>\n",
       "      <td>556</td>\n",
       "      <td>258000000</td>\n",
       "      <td>[{'id': 14, 'name': 'Fantasy'}, {'id': 28, 'na...</td>\n",
       "      <td>https://www.sonypictures.com/movies/spiderman3</td>\n",
       "      <td>559</td>\n",
       "      <td>tt0413300</td>\n",
       "      <td>en</td>\n",
       "      <td>Spider-Man 3</td>\n",
       "      <td>The seemingly invincible Spider-Man goes up ag...</td>\n",
       "      <td>22.024</td>\n",
       "      <td>...</td>\n",
       "      <td>0</td>\n",
       "      <td>0</td>\n",
       "      <td>0</td>\n",
       "      <td>0</td>\n",
       "      <td>0</td>\n",
       "      <td>0</td>\n",
       "      <td>0</td>\n",
       "      <td>0</td>\n",
       "      <td>0</td>\n",
       "      <td>0</td>\n",
       "    </tr>\n",
       "    <tr>\n",
       "      <th>1</th>\n",
       "      <td>256296</td>\n",
       "      <td>250000</td>\n",
       "      <td>[{'id': 35, 'name': 'Comedy'}, {'id': 27, 'nam...</td>\n",
       "      <td>NaN</td>\n",
       "      <td>50719</td>\n",
       "      <td>tt0093974</td>\n",
       "      <td>en</td>\n",
       "      <td>Silent Night, Deadly Night Part 2</td>\n",
       "      <td>After being traumatized by his brother Billy's...</td>\n",
       "      <td>4.756</td>\n",
       "      <td>...</td>\n",
       "      <td>0</td>\n",
       "      <td>0</td>\n",
       "      <td>0</td>\n",
       "      <td>0</td>\n",
       "      <td>0</td>\n",
       "      <td>0</td>\n",
       "      <td>0</td>\n",
       "      <td>0</td>\n",
       "      <td>0</td>\n",
       "      <td>0</td>\n",
       "    </tr>\n",
       "    <tr>\n",
       "      <th>2</th>\n",
       "      <td>NaN</td>\n",
       "      <td>0</td>\n",
       "      <td>[{'id': 99, 'name': 'Documentary'}]</td>\n",
       "      <td>https://www.scottymovie.com/</td>\n",
       "      <td>469062</td>\n",
       "      <td>tt2773246</td>\n",
       "      <td>en</td>\n",
       "      <td>Scotty and the Secret History of Hollywood</td>\n",
       "      <td>A deliciously scandalous portrait of unsung Ho...</td>\n",
       "      <td>4.746</td>\n",
       "      <td>...</td>\n",
       "      <td>0</td>\n",
       "      <td>0</td>\n",
       "      <td>0</td>\n",
       "      <td>0</td>\n",
       "      <td>0</td>\n",
       "      <td>0</td>\n",
       "      <td>0</td>\n",
       "      <td>0</td>\n",
       "      <td>0</td>\n",
       "      <td>0</td>\n",
       "    </tr>\n",
       "    <tr>\n",
       "      <th>3</th>\n",
       "      <td>8917</td>\n",
       "      <td>1000000</td>\n",
       "      <td>[{'id': 27, 'name': 'Horror'}]</td>\n",
       "      <td>NaN</td>\n",
       "      <td>9003</td>\n",
       "      <td>tt0093177</td>\n",
       "      <td>en</td>\n",
       "      <td>Hellraiser</td>\n",
       "      <td>An unfaithful wife encounters the zombie of he...</td>\n",
       "      <td>13.828</td>\n",
       "      <td>...</td>\n",
       "      <td>0</td>\n",
       "      <td>0</td>\n",
       "      <td>0</td>\n",
       "      <td>0</td>\n",
       "      <td>0</td>\n",
       "      <td>0</td>\n",
       "      <td>0</td>\n",
       "      <td>0</td>\n",
       "      <td>0</td>\n",
       "      <td>0</td>\n",
       "    </tr>\n",
       "    <tr>\n",
       "      <th>4</th>\n",
       "      <td>108693</td>\n",
       "      <td>15000000</td>\n",
       "      <td>[{'id': 35, 'name': 'Comedy'}, {'id': 12, 'nam...</td>\n",
       "      <td>NaN</td>\n",
       "      <td>11153</td>\n",
       "      <td>tt0085995</td>\n",
       "      <td>en</td>\n",
       "      <td>National Lampoon's Vacation</td>\n",
       "      <td>Clark Griswold is on a quest to take his famil...</td>\n",
       "      <td>15.070</td>\n",
       "      <td>...</td>\n",
       "      <td>0</td>\n",
       "      <td>0</td>\n",
       "      <td>0</td>\n",
       "      <td>0</td>\n",
       "      <td>0</td>\n",
       "      <td>0</td>\n",
       "      <td>0</td>\n",
       "      <td>0</td>\n",
       "      <td>0</td>\n",
       "      <td>0</td>\n",
       "    </tr>\n",
       "    <tr>\n",
       "      <th>...</th>\n",
       "      <td>...</td>\n",
       "      <td>...</td>\n",
       "      <td>...</td>\n",
       "      <td>...</td>\n",
       "      <td>...</td>\n",
       "      <td>...</td>\n",
       "      <td>...</td>\n",
       "      <td>...</td>\n",
       "      <td>...</td>\n",
       "      <td>...</td>\n",
       "      <td>...</td>\n",
       "      <td>...</td>\n",
       "      <td>...</td>\n",
       "      <td>...</td>\n",
       "      <td>...</td>\n",
       "      <td>...</td>\n",
       "      <td>...</td>\n",
       "      <td>...</td>\n",
       "      <td>...</td>\n",
       "      <td>...</td>\n",
       "      <td>...</td>\n",
       "    </tr>\n",
       "    <tr>\n",
       "      <th>5210</th>\n",
       "      <td>239968</td>\n",
       "      <td>0</td>\n",
       "      <td>[{'id': 35, 'name': 'Comedy'}]</td>\n",
       "      <td>NaN</td>\n",
       "      <td>78159</td>\n",
       "      <td>tt0088873</td>\n",
       "      <td>fr</td>\n",
       "      <td>La cage aux folles III - \"Elles\" se marient</td>\n",
       "      <td>Third and final version of the La Cage aux Fol...</td>\n",
       "      <td>3.050</td>\n",
       "      <td>...</td>\n",
       "      <td>0</td>\n",
       "      <td>0</td>\n",
       "      <td>0</td>\n",
       "      <td>0</td>\n",
       "      <td>0</td>\n",
       "      <td>0</td>\n",
       "      <td>0</td>\n",
       "      <td>0</td>\n",
       "      <td>0</td>\n",
       "      <td>0</td>\n",
       "    </tr>\n",
       "    <tr>\n",
       "      <th>5211</th>\n",
       "      <td>111751</td>\n",
       "      <td>85000</td>\n",
       "      <td>[{'id': 27, 'name': 'Horror'}]</td>\n",
       "      <td>NaN</td>\n",
       "      <td>30497</td>\n",
       "      <td>tt0072271</td>\n",
       "      <td>en</td>\n",
       "      <td>The Texas Chain Saw Massacre</td>\n",
       "      <td>When Sally hears that her grandfather's grave ...</td>\n",
       "      <td>11.580</td>\n",
       "      <td>...</td>\n",
       "      <td>0</td>\n",
       "      <td>0</td>\n",
       "      <td>0</td>\n",
       "      <td>0</td>\n",
       "      <td>0</td>\n",
       "      <td>0</td>\n",
       "      <td>0</td>\n",
       "      <td>0</td>\n",
       "      <td>0</td>\n",
       "      <td>0</td>\n",
       "    </tr>\n",
       "    <tr>\n",
       "      <th>5212</th>\n",
       "      <td>NaN</td>\n",
       "      <td>30000000</td>\n",
       "      <td>[{'id': 12, 'name': 'Adventure'}, {'id': 35, '...</td>\n",
       "      <td>NaN</td>\n",
       "      <td>14342</td>\n",
       "      <td>tt0119053</td>\n",
       "      <td>en</td>\n",
       "      <td>Almost Heroes</td>\n",
       "      <td>Two hapless explorers lead an ill-fated 1804 e...</td>\n",
       "      <td>7.946</td>\n",
       "      <td>...</td>\n",
       "      <td>0</td>\n",
       "      <td>0</td>\n",
       "      <td>0</td>\n",
       "      <td>0</td>\n",
       "      <td>0</td>\n",
       "      <td>0</td>\n",
       "      <td>0</td>\n",
       "      <td>0</td>\n",
       "      <td>0</td>\n",
       "      <td>0</td>\n",
       "    </tr>\n",
       "    <tr>\n",
       "      <th>5213</th>\n",
       "      <td>NaN</td>\n",
       "      <td>20000000</td>\n",
       "      <td>[{'id': 878, 'name': 'Science Fiction'}, {'id'...</td>\n",
       "      <td>http://www.eternalsunshine.com</td>\n",
       "      <td>38</td>\n",
       "      <td>tt0338013</td>\n",
       "      <td>en</td>\n",
       "      <td>Eternal Sunshine of the Spotless Mind</td>\n",
       "      <td>Joel Barish, heartbroken that his girlfriend u...</td>\n",
       "      <td>19.693</td>\n",
       "      <td>...</td>\n",
       "      <td>0</td>\n",
       "      <td>0</td>\n",
       "      <td>0</td>\n",
       "      <td>0</td>\n",
       "      <td>0</td>\n",
       "      <td>0</td>\n",
       "      <td>0</td>\n",
       "      <td>0</td>\n",
       "      <td>0</td>\n",
       "      <td>0</td>\n",
       "    </tr>\n",
       "    <tr>\n",
       "      <th>5214</th>\n",
       "      <td>71458</td>\n",
       "      <td>6500000</td>\n",
       "      <td>[{'id': 28, 'name': 'Action'}, {'id': 12, 'nam...</td>\n",
       "      <td>NaN</td>\n",
       "      <td>16314</td>\n",
       "      <td>tt0103596</td>\n",
       "      <td>en</td>\n",
       "      <td>3 Ninjas</td>\n",
       "      <td>Each year, three brothers Samuel, Jeffrey and ...</td>\n",
       "      <td>10.913</td>\n",
       "      <td>...</td>\n",
       "      <td>0</td>\n",
       "      <td>0</td>\n",
       "      <td>0</td>\n",
       "      <td>0</td>\n",
       "      <td>0</td>\n",
       "      <td>0</td>\n",
       "      <td>0</td>\n",
       "      <td>0</td>\n",
       "      <td>0</td>\n",
       "      <td>0</td>\n",
       "    </tr>\n",
       "  </tbody>\n",
       "</table>\n",
       "<p>5215 rows × 116 columns</p>\n",
       "</div>"
      ],
      "text/plain": [
       "     belongs_to_collection     budget  \\\n",
       "0                      556  258000000   \n",
       "1                   256296     250000   \n",
       "2                      NaN          0   \n",
       "3                     8917    1000000   \n",
       "4                   108693   15000000   \n",
       "...                    ...        ...   \n",
       "5210                239968          0   \n",
       "5211                111751      85000   \n",
       "5212                   NaN   30000000   \n",
       "5213                   NaN   20000000   \n",
       "5214                 71458    6500000   \n",
       "\n",
       "                                                 genres  \\\n",
       "0     [{'id': 14, 'name': 'Fantasy'}, {'id': 28, 'na...   \n",
       "1     [{'id': 35, 'name': 'Comedy'}, {'id': 27, 'nam...   \n",
       "2                   [{'id': 99, 'name': 'Documentary'}]   \n",
       "3                        [{'id': 27, 'name': 'Horror'}]   \n",
       "4     [{'id': 35, 'name': 'Comedy'}, {'id': 12, 'nam...   \n",
       "...                                                 ...   \n",
       "5210                     [{'id': 35, 'name': 'Comedy'}]   \n",
       "5211                     [{'id': 27, 'name': 'Horror'}]   \n",
       "5212  [{'id': 12, 'name': 'Adventure'}, {'id': 35, '...   \n",
       "5213  [{'id': 878, 'name': 'Science Fiction'}, {'id'...   \n",
       "5214  [{'id': 28, 'name': 'Action'}, {'id': 12, 'nam...   \n",
       "\n",
       "                                            homepage      id    imdb_id  \\\n",
       "0     https://www.sonypictures.com/movies/spiderman3     559  tt0413300   \n",
       "1                                                NaN   50719  tt0093974   \n",
       "2                       https://www.scottymovie.com/  469062  tt2773246   \n",
       "3                                                NaN    9003  tt0093177   \n",
       "4                                                NaN   11153  tt0085995   \n",
       "...                                              ...     ...        ...   \n",
       "5210                                             NaN   78159  tt0088873   \n",
       "5211                                             NaN   30497  tt0072271   \n",
       "5212                                             NaN   14342  tt0119053   \n",
       "5213                  http://www.eternalsunshine.com      38  tt0338013   \n",
       "5214                                             NaN   16314  tt0103596   \n",
       "\n",
       "     original_language                               original_title  \\\n",
       "0                   en                                 Spider-Man 3   \n",
       "1                   en            Silent Night, Deadly Night Part 2   \n",
       "2                   en   Scotty and the Secret History of Hollywood   \n",
       "3                   en                                   Hellraiser   \n",
       "4                   en                  National Lampoon's Vacation   \n",
       "...                ...                                          ...   \n",
       "5210                fr  La cage aux folles III - \"Elles\" se marient   \n",
       "5211                en                 The Texas Chain Saw Massacre   \n",
       "5212                en                                Almost Heroes   \n",
       "5213                en        Eternal Sunshine of the Spotless Mind   \n",
       "5214                en                                     3 Ninjas   \n",
       "\n",
       "                                               overview  popularity  ... to  \\\n",
       "0     The seemingly invincible Spider-Man goes up ag...      22.024  ...  0   \n",
       "1     After being traumatized by his brother Billy's...       4.756  ...  0   \n",
       "2     A deliciously scandalous portrait of unsung Ho...       4.746  ...  0   \n",
       "3     An unfaithful wife encounters the zombie of he...      13.828  ...  0   \n",
       "4     Clark Griswold is on a quest to take his famil...      15.070  ...  0   \n",
       "...                                                 ...         ...  ... ..   \n",
       "5210  Third and final version of the La Cage aux Fol...       3.050  ...  0   \n",
       "5211  When Sally hears that her grandfather's grave ...      11.580  ...  0   \n",
       "5212  Two hapless explorers lead an ill-fated 1804 e...       7.946  ...  0   \n",
       "5213  Joel Barish, heartbroken that his girlfriend u...      19.693  ...  0   \n",
       "5214  Each year, three brothers Samuel, Jeffrey and ...      10.913  ...  0   \n",
       "\n",
       "     tr uk ur  vi  xh xx yi zh  zu  \n",
       "0     0  0  0   0   0  0  0  0   0  \n",
       "1     0  0  0   0   0  0  0  0   0  \n",
       "2     0  0  0   0   0  0  0  0   0  \n",
       "3     0  0  0   0   0  0  0  0   0  \n",
       "4     0  0  0   0   0  0  0  0   0  \n",
       "...  .. .. ..  ..  .. .. .. ..  ..  \n",
       "5210  0  0  0   0   0  0  0  0   0  \n",
       "5211  0  0  0   0   0  0  0  0   0  \n",
       "5212  0  0  0   0   0  0  0  0   0  \n",
       "5213  0  0  0   0   0  0  0  0   0  \n",
       "5214  0  0  0   0   0  0  0  0   0  \n",
       "\n",
       "[5215 rows x 116 columns]"
      ]
     },
     "execution_count": 28,
     "metadata": {},
     "output_type": "execute_result"
    }
   ],
   "source": [
    "df"
   ]
  },
  {
   "cell_type": "code",
   "execution_count": null,
   "metadata": {},
   "outputs": [],
   "source": []
  }
 ],
 "metadata": {
  "kernelspec": {
   "display_name": "Python 3",
   "language": "python",
   "name": "python3"
  },
  "language_info": {
   "codemirror_mode": {
    "name": "ipython",
    "version": 3
   },
   "file_extension": ".py",
   "mimetype": "text/x-python",
   "name": "python",
   "nbconvert_exporter": "python",
   "pygments_lexer": "ipython3",
   "version": "3.7.7"
  }
 },
 "nbformat": 4,
 "nbformat_minor": 2
}
