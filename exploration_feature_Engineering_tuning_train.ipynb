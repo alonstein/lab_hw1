{
 "cells": [
  {
   "cell_type": "code",
   "execution_count": 1,
   "metadata": {},
   "outputs": [],
   "source": [
    "import pandas as pd\n",
    "import re\n",
    "import ast\n",
    "from sklearn.preprocessing import MultiLabelBinarizer\n",
    "import matplotlib.pyplot as plt\n",
    "import numpy as np\n",
    "import string\n",
    "from nltk.stem.porter import PorterStemmer\n",
    "from collections import Counter\n",
    "import statistics\n",
    "import nltk\n",
    "from nltk.corpus import stopwords \n",
    "import math\n",
    "import random"
   ]
  },
  {
   "cell_type": "code",
   "execution_count": 2,
   "metadata": {},
   "outputs": [],
   "source": [
    "df = pd.read_csv('train.tsv',sep='\\t')"
   ]
  },
  {
   "cell_type": "markdown",
   "metadata": {},
   "source": [
    "<font size=\"6\" >Feature Exploration and Feature Engineering</font>"
   ]
  },
  {
   "cell_type": "code",
   "execution_count": 3,
   "metadata": {},
   "outputs": [
    {
     "data": {
      "text/plain": [
       "Index(['backdrop_path', 'belongs_to_collection', 'budget', 'genres',\n",
       "       'homepage', 'id', 'imdb_id', 'original_language', 'original_title',\n",
       "       'overview', 'popularity', 'poster_path', 'production_companies',\n",
       "       'production_countries', 'release_date', 'revenue', 'runtime',\n",
       "       'spoken_languages', 'status', 'tagline', 'title', 'video',\n",
       "       'vote_average', 'vote_count', 'Keywords', 'cast', 'crew'],\n",
       "      dtype='object')"
      ]
     },
     "execution_count": 3,
     "metadata": {},
     "output_type": "execute_result"
    }
   ],
   "source": [
    "df.columns"
   ]
  },
  {
   "cell_type": "code",
   "execution_count": 4,
   "metadata": {},
   "outputs": [],
   "source": [
    "df['ln_revenue'] = np.log(df['revenue']+1)"
   ]
  },
  {
   "cell_type": "code",
   "execution_count": 5,
   "metadata": {},
   "outputs": [],
   "source": [
    "average_ln_revenue = df['ln_revenue'].mean()\n",
    "average_revenue = df['revenue'].mean()\n",
    "average_revenue = average_ln_revenue\n",
    "train_set_size = len(df)"
   ]
  },
  {
   "cell_type": "code",
   "execution_count": 6,
   "metadata": {},
   "outputs": [
    {
     "data": {
      "text/html": [
       "<div>\n",
       "<style scoped>\n",
       "    .dataframe tbody tr th:only-of-type {\n",
       "        vertical-align: middle;\n",
       "    }\n",
       "\n",
       "    .dataframe tbody tr th {\n",
       "        vertical-align: top;\n",
       "    }\n",
       "\n",
       "    .dataframe thead th {\n",
       "        text-align: right;\n",
       "    }\n",
       "</style>\n",
       "<table border=\"1\" class=\"dataframe\">\n",
       "  <thead>\n",
       "    <tr style=\"text-align: right;\">\n",
       "      <th></th>\n",
       "      <th>budget</th>\n",
       "      <th>id</th>\n",
       "      <th>popularity</th>\n",
       "      <th>revenue</th>\n",
       "      <th>runtime</th>\n",
       "      <th>video</th>\n",
       "      <th>vote_average</th>\n",
       "      <th>vote_count</th>\n",
       "      <th>ln_revenue</th>\n",
       "    </tr>\n",
       "  </thead>\n",
       "  <tbody>\n",
       "    <tr>\n",
       "      <th>budget</th>\n",
       "      <td>1.000000</td>\n",
       "      <td>-0.045909</td>\n",
       "      <td>0.508048</td>\n",
       "      <td>0.753590</td>\n",
       "      <td>0.193121</td>\n",
       "      <td>-0.026635</td>\n",
       "      <td>0.020289</td>\n",
       "      <td>0.607103</td>\n",
       "      <td>0.483225</td>\n",
       "    </tr>\n",
       "    <tr>\n",
       "      <th>id</th>\n",
       "      <td>-0.045909</td>\n",
       "      <td>1.000000</td>\n",
       "      <td>0.146549</td>\n",
       "      <td>-0.001979</td>\n",
       "      <td>-0.017272</td>\n",
       "      <td>0.056707</td>\n",
       "      <td>0.004266</td>\n",
       "      <td>-0.002634</td>\n",
       "      <td>-0.110578</td>\n",
       "    </tr>\n",
       "    <tr>\n",
       "      <th>popularity</th>\n",
       "      <td>0.508048</td>\n",
       "      <td>0.146549</td>\n",
       "      <td>1.000000</td>\n",
       "      <td>0.567924</td>\n",
       "      <td>0.140087</td>\n",
       "      <td>-0.053811</td>\n",
       "      <td>0.232102</td>\n",
       "      <td>0.633513</td>\n",
       "      <td>0.432581</td>\n",
       "    </tr>\n",
       "    <tr>\n",
       "      <th>revenue</th>\n",
       "      <td>0.753590</td>\n",
       "      <td>-0.001979</td>\n",
       "      <td>0.567924</td>\n",
       "      <td>1.000000</td>\n",
       "      <td>0.183223</td>\n",
       "      <td>-0.025021</td>\n",
       "      <td>0.159344</td>\n",
       "      <td>0.769808</td>\n",
       "      <td>0.484683</td>\n",
       "    </tr>\n",
       "    <tr>\n",
       "      <th>runtime</th>\n",
       "      <td>0.193121</td>\n",
       "      <td>-0.017272</td>\n",
       "      <td>0.140087</td>\n",
       "      <td>0.183223</td>\n",
       "      <td>1.000000</td>\n",
       "      <td>0.135716</td>\n",
       "      <td>0.302452</td>\n",
       "      <td>0.179196</td>\n",
       "      <td>0.205085</td>\n",
       "    </tr>\n",
       "    <tr>\n",
       "      <th>video</th>\n",
       "      <td>-0.026635</td>\n",
       "      <td>0.056707</td>\n",
       "      <td>-0.053811</td>\n",
       "      <td>-0.025021</td>\n",
       "      <td>0.135716</td>\n",
       "      <td>1.000000</td>\n",
       "      <td>-0.057794</td>\n",
       "      <td>-0.029589</td>\n",
       "      <td>-0.041816</td>\n",
       "    </tr>\n",
       "    <tr>\n",
       "      <th>vote_average</th>\n",
       "      <td>0.020289</td>\n",
       "      <td>0.004266</td>\n",
       "      <td>0.232102</td>\n",
       "      <td>0.159344</td>\n",
       "      <td>0.302452</td>\n",
       "      <td>-0.057794</td>\n",
       "      <td>1.000000</td>\n",
       "      <td>0.284642</td>\n",
       "      <td>0.150904</td>\n",
       "    </tr>\n",
       "    <tr>\n",
       "      <th>vote_count</th>\n",
       "      <td>0.607103</td>\n",
       "      <td>-0.002634</td>\n",
       "      <td>0.633513</td>\n",
       "      <td>0.769808</td>\n",
       "      <td>0.179196</td>\n",
       "      <td>-0.029589</td>\n",
       "      <td>0.284642</td>\n",
       "      <td>1.000000</td>\n",
       "      <td>0.427802</td>\n",
       "    </tr>\n",
       "    <tr>\n",
       "      <th>ln_revenue</th>\n",
       "      <td>0.483225</td>\n",
       "      <td>-0.110578</td>\n",
       "      <td>0.432581</td>\n",
       "      <td>0.484683</td>\n",
       "      <td>0.205085</td>\n",
       "      <td>-0.041816</td>\n",
       "      <td>0.150904</td>\n",
       "      <td>0.427802</td>\n",
       "      <td>1.000000</td>\n",
       "    </tr>\n",
       "  </tbody>\n",
       "</table>\n",
       "</div>"
      ],
      "text/plain": [
       "                budget        id  popularity   revenue   runtime     video  \\\n",
       "budget        1.000000 -0.045909    0.508048  0.753590  0.193121 -0.026635   \n",
       "id           -0.045909  1.000000    0.146549 -0.001979 -0.017272  0.056707   \n",
       "popularity    0.508048  0.146549    1.000000  0.567924  0.140087 -0.053811   \n",
       "revenue       0.753590 -0.001979    0.567924  1.000000  0.183223 -0.025021   \n",
       "runtime       0.193121 -0.017272    0.140087  0.183223  1.000000  0.135716   \n",
       "video        -0.026635  0.056707   -0.053811 -0.025021  0.135716  1.000000   \n",
       "vote_average  0.020289  0.004266    0.232102  0.159344  0.302452 -0.057794   \n",
       "vote_count    0.607103 -0.002634    0.633513  0.769808  0.179196 -0.029589   \n",
       "ln_revenue    0.483225 -0.110578    0.432581  0.484683  0.205085 -0.041816   \n",
       "\n",
       "              vote_average  vote_count  ln_revenue  \n",
       "budget            0.020289    0.607103    0.483225  \n",
       "id                0.004266   -0.002634   -0.110578  \n",
       "popularity        0.232102    0.633513    0.432581  \n",
       "revenue           0.159344    0.769808    0.484683  \n",
       "runtime           0.302452    0.179196    0.205085  \n",
       "video            -0.057794   -0.029589   -0.041816  \n",
       "vote_average      1.000000    0.284642    0.150904  \n",
       "vote_count        0.284642    1.000000    0.427802  \n",
       "ln_revenue        0.150904    0.427802    1.000000  "
      ]
     },
     "execution_count": 6,
     "metadata": {},
     "output_type": "execute_result"
    }
   ],
   "source": [
    "df.corr()"
   ]
  },
  {
   "cell_type": "code",
   "execution_count": 7,
   "metadata": {},
   "outputs": [
    {
     "data": {
      "text/html": [
       "<div>\n",
       "<style scoped>\n",
       "    .dataframe tbody tr th:only-of-type {\n",
       "        vertical-align: middle;\n",
       "    }\n",
       "\n",
       "    .dataframe tbody tr th {\n",
       "        vertical-align: top;\n",
       "    }\n",
       "\n",
       "    .dataframe thead th {\n",
       "        text-align: right;\n",
       "    }\n",
       "</style>\n",
       "<table border=\"1\" class=\"dataframe\">\n",
       "  <thead>\n",
       "    <tr style=\"text-align: right;\">\n",
       "      <th></th>\n",
       "      <th>budget</th>\n",
       "      <th>id</th>\n",
       "      <th>popularity</th>\n",
       "      <th>revenue</th>\n",
       "      <th>runtime</th>\n",
       "      <th>video</th>\n",
       "      <th>vote_average</th>\n",
       "      <th>vote_count</th>\n",
       "      <th>ln_revenue</th>\n",
       "    </tr>\n",
       "  </thead>\n",
       "  <tbody>\n",
       "    <tr>\n",
       "      <th>budget</th>\n",
       "      <td>1.000000</td>\n",
       "      <td>-0.213341</td>\n",
       "      <td>0.559653</td>\n",
       "      <td>0.686852</td>\n",
       "      <td>0.252063</td>\n",
       "      <td>-0.043986</td>\n",
       "      <td>-0.016472</td>\n",
       "      <td>0.620679</td>\n",
       "      <td>0.686852</td>\n",
       "    </tr>\n",
       "    <tr>\n",
       "      <th>id</th>\n",
       "      <td>-0.213341</td>\n",
       "      <td>1.000000</td>\n",
       "      <td>-0.189962</td>\n",
       "      <td>-0.264908</td>\n",
       "      <td>-0.083596</td>\n",
       "      <td>0.042096</td>\n",
       "      <td>-0.118153</td>\n",
       "      <td>-0.237973</td>\n",
       "      <td>-0.264908</td>\n",
       "    </tr>\n",
       "    <tr>\n",
       "      <th>popularity</th>\n",
       "      <td>0.559653</td>\n",
       "      <td>-0.189962</td>\n",
       "      <td>1.000000</td>\n",
       "      <td>0.636686</td>\n",
       "      <td>0.164733</td>\n",
       "      <td>-0.082624</td>\n",
       "      <td>0.222627</td>\n",
       "      <td>0.857544</td>\n",
       "      <td>0.636686</td>\n",
       "    </tr>\n",
       "    <tr>\n",
       "      <th>revenue</th>\n",
       "      <td>0.686852</td>\n",
       "      <td>-0.264908</td>\n",
       "      <td>0.636686</td>\n",
       "      <td>1.000000</td>\n",
       "      <td>0.274395</td>\n",
       "      <td>-0.051778</td>\n",
       "      <td>0.132838</td>\n",
       "      <td>0.702440</td>\n",
       "      <td>1.000000</td>\n",
       "    </tr>\n",
       "    <tr>\n",
       "      <th>runtime</th>\n",
       "      <td>0.252063</td>\n",
       "      <td>-0.083596</td>\n",
       "      <td>0.164733</td>\n",
       "      <td>0.274395</td>\n",
       "      <td>1.000000</td>\n",
       "      <td>0.054455</td>\n",
       "      <td>0.342145</td>\n",
       "      <td>0.191168</td>\n",
       "      <td>0.274395</td>\n",
       "    </tr>\n",
       "    <tr>\n",
       "      <th>video</th>\n",
       "      <td>-0.043986</td>\n",
       "      <td>0.042096</td>\n",
       "      <td>-0.082624</td>\n",
       "      <td>-0.051778</td>\n",
       "      <td>0.054455</td>\n",
       "      <td>1.000000</td>\n",
       "      <td>-0.016486</td>\n",
       "      <td>-0.095960</td>\n",
       "      <td>-0.051778</td>\n",
       "    </tr>\n",
       "    <tr>\n",
       "      <th>vote_average</th>\n",
       "      <td>-0.016472</td>\n",
       "      <td>-0.118153</td>\n",
       "      <td>0.222627</td>\n",
       "      <td>0.132838</td>\n",
       "      <td>0.342145</td>\n",
       "      <td>-0.016486</td>\n",
       "      <td>1.000000</td>\n",
       "      <td>0.278710</td>\n",
       "      <td>0.132838</td>\n",
       "    </tr>\n",
       "    <tr>\n",
       "      <th>vote_count</th>\n",
       "      <td>0.620679</td>\n",
       "      <td>-0.237973</td>\n",
       "      <td>0.857544</td>\n",
       "      <td>0.702440</td>\n",
       "      <td>0.191168</td>\n",
       "      <td>-0.095960</td>\n",
       "      <td>0.278710</td>\n",
       "      <td>1.000000</td>\n",
       "      <td>0.702440</td>\n",
       "    </tr>\n",
       "    <tr>\n",
       "      <th>ln_revenue</th>\n",
       "      <td>0.686852</td>\n",
       "      <td>-0.264908</td>\n",
       "      <td>0.636686</td>\n",
       "      <td>1.000000</td>\n",
       "      <td>0.274395</td>\n",
       "      <td>-0.051778</td>\n",
       "      <td>0.132838</td>\n",
       "      <td>0.702440</td>\n",
       "      <td>1.000000</td>\n",
       "    </tr>\n",
       "  </tbody>\n",
       "</table>\n",
       "</div>"
      ],
      "text/plain": [
       "                budget        id  popularity   revenue   runtime     video  \\\n",
       "budget        1.000000 -0.213341    0.559653  0.686852  0.252063 -0.043986   \n",
       "id           -0.213341  1.000000   -0.189962 -0.264908 -0.083596  0.042096   \n",
       "popularity    0.559653 -0.189962    1.000000  0.636686  0.164733 -0.082624   \n",
       "revenue       0.686852 -0.264908    0.636686  1.000000  0.274395 -0.051778   \n",
       "runtime       0.252063 -0.083596    0.164733  0.274395  1.000000  0.054455   \n",
       "video        -0.043986  0.042096   -0.082624 -0.051778  0.054455  1.000000   \n",
       "vote_average -0.016472 -0.118153    0.222627  0.132838  0.342145 -0.016486   \n",
       "vote_count    0.620679 -0.237973    0.857544  0.702440  0.191168 -0.095960   \n",
       "ln_revenue    0.686852 -0.264908    0.636686  1.000000  0.274395 -0.051778   \n",
       "\n",
       "              vote_average  vote_count  ln_revenue  \n",
       "budget           -0.016472    0.620679    0.686852  \n",
       "id               -0.118153   -0.237973   -0.264908  \n",
       "popularity        0.222627    0.857544    0.636686  \n",
       "revenue           0.132838    0.702440    1.000000  \n",
       "runtime           0.342145    0.191168    0.274395  \n",
       "video            -0.016486   -0.095960   -0.051778  \n",
       "vote_average      1.000000    0.278710    0.132838  \n",
       "vote_count        0.278710    1.000000    0.702440  \n",
       "ln_revenue        0.132838    0.702440    1.000000  "
      ]
     },
     "execution_count": 7,
     "metadata": {},
     "output_type": "execute_result"
    }
   ],
   "source": [
    "df.corr(method='spearman')"
   ]
  },
  {
   "cell_type": "code",
   "execution_count": 8,
   "metadata": {},
   "outputs": [
    {
     "data": {
      "text/html": [
       "<div>\n",
       "<style scoped>\n",
       "    .dataframe tbody tr th:only-of-type {\n",
       "        vertical-align: middle;\n",
       "    }\n",
       "\n",
       "    .dataframe tbody tr th {\n",
       "        vertical-align: top;\n",
       "    }\n",
       "\n",
       "    .dataframe thead th {\n",
       "        text-align: right;\n",
       "    }\n",
       "</style>\n",
       "<table border=\"1\" class=\"dataframe\">\n",
       "  <thead>\n",
       "    <tr style=\"text-align: right;\">\n",
       "      <th></th>\n",
       "      <th>budget</th>\n",
       "      <th>id</th>\n",
       "      <th>popularity</th>\n",
       "      <th>revenue</th>\n",
       "      <th>runtime</th>\n",
       "      <th>vote_average</th>\n",
       "      <th>vote_count</th>\n",
       "      <th>ln_revenue</th>\n",
       "    </tr>\n",
       "  </thead>\n",
       "  <tbody>\n",
       "    <tr>\n",
       "      <th>count</th>\n",
       "      <td>5.215000e+03</td>\n",
       "      <td>5215.000000</td>\n",
       "      <td>5215.000000</td>\n",
       "      <td>5.215000e+03</td>\n",
       "      <td>5211.000000</td>\n",
       "      <td>5215.000000</td>\n",
       "      <td>5215.000000</td>\n",
       "      <td>5215.000000</td>\n",
       "    </tr>\n",
       "    <tr>\n",
       "      <th>mean</th>\n",
       "      <td>2.147967e+07</td>\n",
       "      <td>98768.673442</td>\n",
       "      <td>10.016559</td>\n",
       "      <td>6.538743e+07</td>\n",
       "      <td>108.027442</td>\n",
       "      <td>6.399099</td>\n",
       "      <td>1062.859636</td>\n",
       "      <td>15.897057</td>\n",
       "    </tr>\n",
       "    <tr>\n",
       "      <th>std</th>\n",
       "      <td>3.631509e+07</td>\n",
       "      <td>143992.708567</td>\n",
       "      <td>7.075799</td>\n",
       "      <td>1.432381e+08</td>\n",
       "      <td>22.740973</td>\n",
       "      <td>0.943931</td>\n",
       "      <td>2097.172266</td>\n",
       "      <td>3.076433</td>\n",
       "    </tr>\n",
       "    <tr>\n",
       "      <th>min</th>\n",
       "      <td>0.000000e+00</td>\n",
       "      <td>5.000000</td>\n",
       "      <td>1.519000</td>\n",
       "      <td>1.000000e+00</td>\n",
       "      <td>0.000000</td>\n",
       "      <td>0.000000</td>\n",
       "      <td>0.000000</td>\n",
       "      <td>0.693147</td>\n",
       "    </tr>\n",
       "    <tr>\n",
       "      <th>25%</th>\n",
       "      <td>0.000000e+00</td>\n",
       "      <td>10136.000000</td>\n",
       "      <td>6.264000</td>\n",
       "      <td>2.360718e+06</td>\n",
       "      <td>94.000000</td>\n",
       "      <td>5.900000</td>\n",
       "      <td>74.000000</td>\n",
       "      <td>14.674476</td>\n",
       "    </tr>\n",
       "    <tr>\n",
       "      <th>50%</th>\n",
       "      <td>6.500000e+06</td>\n",
       "      <td>24662.000000</td>\n",
       "      <td>9.009000</td>\n",
       "      <td>1.515620e+07</td>\n",
       "      <td>104.000000</td>\n",
       "      <td>6.400000</td>\n",
       "      <td>290.000000</td>\n",
       "      <td>16.533920</td>\n",
       "    </tr>\n",
       "    <tr>\n",
       "      <th>75%</th>\n",
       "      <td>2.600000e+07</td>\n",
       "      <td>121704.000000</td>\n",
       "      <td>11.801000</td>\n",
       "      <td>6.214247e+07</td>\n",
       "      <td>118.000000</td>\n",
       "      <td>7.100000</td>\n",
       "      <td>1028.000000</td>\n",
       "      <td>17.944940</td>\n",
       "    </tr>\n",
       "    <tr>\n",
       "      <th>max</th>\n",
       "      <td>3.800000e+08</td>\n",
       "      <td>679106.000000</td>\n",
       "      <td>151.237000</td>\n",
       "      <td>2.046240e+09</td>\n",
       "      <td>465.000000</td>\n",
       "      <td>10.000000</td>\n",
       "      <td>24834.000000</td>\n",
       "      <td>21.439270</td>\n",
       "    </tr>\n",
       "  </tbody>\n",
       "</table>\n",
       "</div>"
      ],
      "text/plain": [
       "             budget             id   popularity       revenue      runtime  \\\n",
       "count  5.215000e+03    5215.000000  5215.000000  5.215000e+03  5211.000000   \n",
       "mean   2.147967e+07   98768.673442    10.016559  6.538743e+07   108.027442   \n",
       "std    3.631509e+07  143992.708567     7.075799  1.432381e+08    22.740973   \n",
       "min    0.000000e+00       5.000000     1.519000  1.000000e+00     0.000000   \n",
       "25%    0.000000e+00   10136.000000     6.264000  2.360718e+06    94.000000   \n",
       "50%    6.500000e+06   24662.000000     9.009000  1.515620e+07   104.000000   \n",
       "75%    2.600000e+07  121704.000000    11.801000  6.214247e+07   118.000000   \n",
       "max    3.800000e+08  679106.000000   151.237000  2.046240e+09   465.000000   \n",
       "\n",
       "       vote_average    vote_count   ln_revenue  \n",
       "count   5215.000000   5215.000000  5215.000000  \n",
       "mean       6.399099   1062.859636    15.897057  \n",
       "std        0.943931   2097.172266     3.076433  \n",
       "min        0.000000      0.000000     0.693147  \n",
       "25%        5.900000     74.000000    14.674476  \n",
       "50%        6.400000    290.000000    16.533920  \n",
       "75%        7.100000   1028.000000    17.944940  \n",
       "max       10.000000  24834.000000    21.439270  "
      ]
     },
     "execution_count": 8,
     "metadata": {},
     "output_type": "execute_result"
    }
   ],
   "source": [
    "df.describe()"
   ]
  },
  {
   "cell_type": "code",
   "execution_count": 9,
   "metadata": {},
   "outputs": [
    {
     "data": {
      "text/plain": [
       "<matplotlib.axes._subplots.AxesSubplot at 0x7f1679f8b8d0>"
      ]
     },
     "execution_count": 9,
     "metadata": {},
     "output_type": "execute_result"
    },
    {
     "data": {
      "image/png": "[encoded data removed]",
      "text/plain": [
       "<Figure size 432x288 with 1 Axes>"
      ]
     },
     "metadata": {
      "needs_background": "light"
     },
     "output_type": "display_data"
    }
   ],
   "source": [
    "df['revenue'].hist()"
   ]
  },
  {
   "cell_type": "code",
   "execution_count": 10,
   "metadata": {
    "scrolled": true
   },
   "outputs": [
    {
     "data": {
      "text/plain": [
       "<matplotlib.axes._subplots.AxesSubplot at 0x7f1679fee910>"
      ]
     },
     "execution_count": 10,
     "metadata": {},
     "output_type": "execute_result"
    },
    {
     "data": {
      "image/png": "[encoded data removed]",
      "text/plain": [
       "<Figure size 432x288 with 1 Axes>"
      ]
     },
     "metadata": {
      "needs_background": "light"
     },
     "output_type": "display_data"
    }
   ],
   "source": [
    "df['ln_revenue'].hist()"
   ]
  },
  {
   "cell_type": "markdown",
   "metadata": {},
   "source": [
    "<font size=\"4\" >\n",
    "    backdrop_path:\n",
    "</font>\n",
    "\n",
    "Links to some images - removed from the analysis"
   ]
  },
  {
   "cell_type": "code",
   "execution_count": 11,
   "metadata": {
    "scrolled": false
   },
   "outputs": [
    {
     "data": {
      "text/plain": [
       "0       /7IBpOrw0ATwL1AOV97mtsceDpYs.jpg\n",
       "1       /lYeE7k0OR3HXyoq7FeswyaxFJvL.jpg\n",
       "2       /gVXLIfMR2hLmkn0nACctlMCJBfx.jpg\n",
       "3       /rKjE17ncAGNzeImNWbdGTimzjtk.jpg\n",
       "4       /zcJxJVhvxNHJJ2J7Q7NhgO9nPUV.jpg\n",
       "                      ...               \n",
       "5210                                 NaN\n",
       "5211    /sOw7TZzt3vRQXXCrwdspSHwCJDR.jpg\n",
       "5212    /5txDq5g0JeCKpemRM2CpT7H2aP3.jpg\n",
       "5213    /1dXTsaFxHoF9cas08UjAqE8NqOW.jpg\n",
       "5214    /yZjbReSRgTGf5IZPmwpecPgm1Z1.jpg\n",
       "Name: backdrop_path, Length: 5215, dtype: object"
      ]
     },
     "execution_count": 11,
     "metadata": {},
     "output_type": "execute_result"
    }
   ],
   "source": [
    "df['backdrop_path']"
   ]
  },
  {
   "cell_type": "code",
   "execution_count": 12,
   "metadata": {},
   "outputs": [],
   "source": [
    "df = df.drop(['backdrop_path'], axis=1)"
   ]
  },
  {
   "cell_type": "markdown",
   "metadata": {},
   "source": [
    "<font size=\"4\" >\n",
    "    release date: \n",
    "</font>\n",
    "\n",
    "we assume that the relevant parts of the relsease date are the year and the month (summer movies might be more profitable)"
   ]
  },
  {
   "cell_type": "code",
   "execution_count": 13,
   "metadata": {},
   "outputs": [],
   "source": [
    "def get_release_year(date):\n",
    "    return int(date[:4])"
   ]
  },
  {
   "cell_type": "code",
   "execution_count": 14,
   "metadata": {},
   "outputs": [],
   "source": [
    "def get_release_month(date):\n",
    "    return int(date[5:7])"
   ]
  },
  {
   "cell_type": "code",
   "execution_count": 15,
   "metadata": {},
   "outputs": [],
   "source": [
    "df['release_year'] = df['release_date'].apply(lambda x:get_release_year(x))\n",
    "df['release_month'] = df['release_date'].apply(lambda x:get_release_month(x))"
   ]
  },
  {
   "cell_type": "code",
   "execution_count": 16,
   "metadata": {},
   "outputs": [],
   "source": [
    "df = df.drop(['release_date'], axis=1)"
   ]
  },
  {
   "cell_type": "markdown",
   "metadata": {},
   "source": [
    "\n",
    "<font size=\"5\" >Categorial variables:</font>\n",
    "\n",
    "We have some features which express belonging to some categories, where in some of them one movie can belong to several categories.\n",
    "\n",
    "We convert this to a list of categories and analyse the number of categories and categories frequency.\n",
    "\n",
    "We have some categorial features with a lot of categories, for some of them the movie can belong to more than one category (spoken languages,cast,text features words..). This will be hard for algorithms to handle.\n",
    "\n",
    "To handle those we use 3 methods:\n",
    "* One hot encoding of frequent categories.\n",
    "* Target encoding with smoothing.\n",
    "* Extracting a boolean variable if the movie belongs to a frequent category (top production comapnies, top production countries)\n",
    "\n",
    "<font size=\"4\" >Target encoding with smoothing:</font>\n",
    "\n",
    "* For each of the categories we extract category frequency and the mean revenue of the movies belong to this category.\n",
    "* For each movie, for each of the categories it belongs to we compute the average revenue of movies belong to this category, excluding the folds of movies which the movie belongs to, to prevent leakage from target to x. \n",
    "* The average revenew of the category is smoothed with average revenew overall, with weightes depending on the category frequency.\n",
    "* For features in which the movie can belong to several categories, we extract as features the min,max,mean and median\n",
    "\n",
    "\n",
    "<font size=\"4\" >Target encoding equasion:</font>\n",
    "\\begin{equation*}\n",
    "\\frac{n*category\\_mean+m*mean}{n+m}\n",
    "\\end{equation*}\n",
    "\n",
    "* n is the number of movies belonging to the category. \n",
    "* category_mean is the mean revenue of movies belonging to the category (excluding current).\n",
    "* mean is the revenue mean (full dataset)\n",
    "* m is a hyperparameter which detrmains the weight of the overall mean. If m=n the category mean and mean are equally weighted. "
   ]
  },
  {
   "cell_type": "code",
   "execution_count": 17,
   "metadata": {},
   "outputs": [],
   "source": [
    "m = 10\n",
    "m_belongs_to_collection = m\n",
    "m_spoken_languages = m\n",
    "m_original_language = m\n",
    "m_production_comapnies = m\n",
    "m_director = m\n",
    "m_producer = m\n",
    "m_cast = m\n",
    "m_keywords = m\n",
    "m_title = m\n",
    "m_overview = m\n",
    "m_tagline = m\n",
    "m_country_count = m"
   ]
  },
  {
   "cell_type": "code",
   "execution_count": 18,
   "metadata": {},
   "outputs": [
    {
     "data": {
      "text/plain": [
       "RangeIndex(start=0, stop=5215, step=1)"
      ]
     },
     "execution_count": 18,
     "metadata": {},
     "output_type": "execute_result"
    }
   ],
   "source": [
    "df.index"
   ]
  },
  {
   "cell_type": "code",
   "execution_count": 19,
   "metadata": {},
   "outputs": [],
   "source": [
    "def get_folds(df):\n",
    "    fold_size = int(train_set_size/5)\n",
    "    df['random_index'] = pd.Series(random.sample(list(df.index), train_set_size) )\n",
    "    df['fold'] = df['random_index'].apply(lambda x:int(x/fold_size))\n",
    "    return dict(df.groupby('fold')['ln_revenue'].sum()),dict(df.groupby('fold')['ln_revenue'].size())"
   ]
  },
  {
   "cell_type": "code",
   "execution_count": 20,
   "metadata": {},
   "outputs": [],
   "source": [
    "folds_sum,fold_len = get_folds(df)"
   ]
  },
  {
   "cell_type": "markdown",
   "metadata": {},
   "source": [
    "When one category is possible"
   ]
  },
  {
   "cell_type": "code",
   "execution_count": 21,
   "metadata": {},
   "outputs": [],
   "source": [
    "def count_categories(series):\n",
    "    return dict(series.value_counts())"
   ]
  },
  {
   "cell_type": "code",
   "execution_count": 22,
   "metadata": {},
   "outputs": [],
   "source": [
    "def get_revenue_dict(df,column):\n",
    "    fold_category_score = [{},{},{},{},{}]\n",
    "    fold_category_count = [{},{},{},{},{}]\n",
    "    for fold in [0,1,2,3,4]:\n",
    "        fold_category_score[fold] = dict(df[df['fold']==fold].groupby(column)['ln_revenue'].sum())\n",
    "        fold_category_count[fold] = dict(df[df['fold']==fold].groupby(column)['ln_revenue'].size())\n",
    "    return dict(df.groupby(column)['ln_revenue'].mean()),fold_category_score,fold_category_count"
   ]
  },
  {
   "cell_type": "code",
   "execution_count": 23,
   "metadata": {},
   "outputs": [],
   "source": [
    "def get_category_score(category,fold,score_dict,count_dict,folds_score,folds_count,smoothing_factor):\n",
    "    average_revenue_without = (average_revenue*train_set_size-folds_sum[fold])/(train_set_size-fold_len[fold])\n",
    "    if not isinstance(category, str):\n",
    "        return average_revenue_without\n",
    "    if count_dict[category]-folds_count[fold][category]>=5:\n",
    "        score = (score_dict[category]*count_dict[category]-folds_score[fold][category])/(count_dict[category]-folds_count[fold][category])\n",
    "        score = (score*(count_dict[category]-folds_count[fold][category])+smoothing_factor*average_revenue_without)/(smoothing_factor+count_dict[category]-folds_count[fold][category]) \n",
    "    else:\n",
    "        score = average_revenue_without\n",
    "    return score"
   ]
  },
  {
   "cell_type": "markdown",
   "metadata": {},
   "source": [
    "When multiple categories are possible"
   ]
  },
  {
   "cell_type": "code",
   "execution_count": 24,
   "metadata": {},
   "outputs": [],
   "source": [
    "def set_from_lists(lists):\n",
    "    items_set = set()\n",
    "    for nested_list in lists:\n",
    "        for item in nested_list:\n",
    "            items_set.add(item)\n",
    "    return items_set"
   ]
  },
  {
   "cell_type": "code",
   "execution_count": 25,
   "metadata": {},
   "outputs": [],
   "source": [
    "def get_frequency(categories_list_series):\n",
    "    all_categories = []\n",
    "    for categories in list(categories_list_series):\n",
    "        all_categories = all_categories + categories\n",
    "    category_count = dict(Counter(all_categories))\n",
    "    return category_count"
   ]
  },
  {
   "cell_type": "code",
   "execution_count": 26,
   "metadata": {},
   "outputs": [],
   "source": [
    "def compute_categories_mean_revenue_(series,revenues,folds,category_count):\n",
    "    categories_score = {}\n",
    "    categories_score_folds = [{},{},{},{},{}]\n",
    "    categories_count_folds = [{},{},{},{},{}]\n",
    "    for categories,revenue,fold in zip(list(series),list(revenues),list(folds)):\n",
    "        for category in categories:\n",
    "            if category not in categories_score:\n",
    "                categories_score[category] = revenue\n",
    "            else:\n",
    "                categories_score[category] += revenue\n",
    "            if category not in categories_score_folds[fold]:\n",
    "                categories_score_folds[fold][category] = revenue\n",
    "                categories_count_folds[fold][category] = 1\n",
    "            else:\n",
    "                categories_score_folds[fold][category] += revenue\n",
    "                categories_count_folds[fold][category] += 1\n",
    "    return categories_score,categories_score_folds,categories_count_folds"
   ]
  },
  {
   "cell_type": "code",
   "execution_count": 27,
   "metadata": {},
   "outputs": [],
   "source": [
    "def get_multiple_categories_score_(categories_list,fold,score_dict,count_dict,folds_score,folds_count,smoothing_factor):\n",
    "    scores = []\n",
    "    average_revenue_without = (average_revenue*train_set_size-folds_sum[fold])/(train_set_size-fold_len[fold])\n",
    "    for category in categories_list:\n",
    "        if count_dict[category]-folds_count[fold][category] >= 5:\n",
    "            score = (score_dict[category]*count_dict[category]-folds_score[fold][category])/(count_dict[category]-folds_count[fold][category])\n",
    "        else:\n",
    "            score = average_revenue_without\n",
    "        scores.append(score)\n",
    "    smoothed_score = [(score*(count_dict[category]-folds_count[fold][category])+smoothing_factor*average_revenue_without)/(smoothing_factor+count_dict[category]-folds_count[fold][category]) for category,score in zip(categories_list,scores)]\n",
    "    return smoothed_score"
   ]
  },
  {
   "cell_type": "code",
   "execution_count": 28,
   "metadata": {},
   "outputs": [],
   "source": [
    "def extract_target_encoding_features(df, column,category_count,m):\n",
    "    category_score,folds_category_score,folds_category_count = compute_categories_mean_revenue_(df[column],df['ln_revenue'],df['fold'],category_count)\n",
    "    scores_series = df[[column,'fold']].apply(lambda x:get_multiple_categories_score_(x[0],x[1],category_score,category_count,folds_category_score,folds_category_count,m),axis=1)\n",
    "    df['min_'+column+'_score'] = scores_series.apply(lambda x:min(x) if len(x)>0 else average_revenue)\n",
    "    df['max_'+column+'_score'] = scores_series.apply(lambda x:max(x) if len(x)>0 else average_revenue)\n",
    "    df['mean_'+column+'_score'] = scores_series.apply(lambda x:sum(x)/len(x) if len(x)>0 else average_revenue)\n",
    "    df['median_'+column+'_score'] = scores_series.apply(lambda x:statistics.median(x) if len(x)>0 else average_revenue)\n",
    "    return df, category_score"
   ]
  },
  {
   "cell_type": "markdown",
   "metadata": {},
   "source": [
    "<font size=\"4\" >\n",
    "    belongs_to_collection:\n",
    "</font>\n",
    "\n",
    "The collection which the movie belongs to (if any)\n",
    "\n",
    "We convert this to a boolean variable (is the movie belongs to collection)\n",
    "\n",
    "We encode james bond movis because this is a big collection.\n",
    "\n",
    "We perform target encoding."
   ]
  },
  {
   "cell_type": "code",
   "execution_count": 29,
   "metadata": {
    "scrolled": true
   },
   "outputs": [
    {
     "data": {
      "text/plain": [
       "0       {'id': 556, 'name': 'Spider-Man Collection', '...\n",
       "1       {'id': 256296, 'name': 'Silent Night, Deadly N...\n",
       "2                                                     NaN\n",
       "3       {'id': 8917, 'name': 'Hellraiser Collection', ...\n",
       "4       {'id': 108693, 'name': \"National Lampoon's Vac...\n",
       "                              ...                        \n",
       "5210    {'id': 239968, 'name': 'La cage aux folles Col...\n",
       "5211    {'id': 111751, 'name': 'Texas Chainsaw Massacr...\n",
       "5212                                                  NaN\n",
       "5213                                                  NaN\n",
       "5214    {'id': 71458, 'name': '3 Ninjas Collection', '...\n",
       "Name: belongs_to_collection, Length: 5215, dtype: object"
      ]
     },
     "execution_count": 29,
     "metadata": {},
     "output_type": "execute_result"
    }
   ],
   "source": [
    "df['belongs_to_collection']"
   ]
  },
  {
   "cell_type": "code",
   "execution_count": 30,
   "metadata": {},
   "outputs": [],
   "source": [
    "df['no_collection'] = df['belongs_to_collection'].isna().astype(int)"
   ]
  },
  {
   "cell_type": "code",
   "execution_count": 31,
   "metadata": {},
   "outputs": [],
   "source": [
    "df['belongs_to_collection'] = df['belongs_to_collection'].apply(lambda x:str(ast.literal_eval(x)['id']) if pd.notnull(x) else x)"
   ]
  },
  {
   "cell_type": "code",
   "execution_count": 32,
   "metadata": {},
   "outputs": [
    {
     "data": {
      "text/plain": [
       "belongs_to_collection\n",
       "100286     0.005129\n",
       "1006       1.167709\n",
       "101471    13.182952\n",
       "10194      0.195723\n",
       "102322     0.100606\n",
       "            ...    \n",
       "9735       0.644848\n",
       "97445      0.333751\n",
       "97771      2.308252\n",
       "98580      0.189289\n",
       "9887       1.579892\n",
       "Name: ln_revenue, Length: 240, dtype: float64"
      ]
     },
     "execution_count": 32,
     "metadata": {},
     "output_type": "execute_result"
    }
   ],
   "source": [
    "df.groupby('belongs_to_collection')['ln_revenue'].var().dropna()"
   ]
  },
  {
   "cell_type": "code",
   "execution_count": 33,
   "metadata": {},
   "outputs": [
    {
     "data": {
      "text/plain": [
       "9.46444073082016"
      ]
     },
     "execution_count": 33,
     "metadata": {},
     "output_type": "execute_result"
    }
   ],
   "source": [
    "df['ln_revenue'].var()"
   ]
  },
  {
   "cell_type": "code",
   "execution_count": 34,
   "metadata": {},
   "outputs": [
    {
     "data": {
      "text/plain": [
       "<matplotlib.axes._subplots.AxesSubplot at 0x7f16797f9cd0>"
      ]
     },
     "execution_count": 34,
     "metadata": {},
     "output_type": "execute_result"
    },
    {
     "data": {
      "image/png": "[encoded data removed]",
      "text/plain": [
       "<Figure size 432x288 with 1 Axes>"
      ]
     },
     "metadata": {
      "needs_background": "light"
     },
     "output_type": "display_data"
    }
   ],
   "source": [
    "df['belongs_to_collection'].value_counts().hist(bins=20)"
   ]
  },
  {
   "cell_type": "code",
   "execution_count": 35,
   "metadata": {
    "scrolled": true
   },
   "outputs": [],
   "source": [
    "collection_counts = count_categories(df['belongs_to_collection'])"
   ]
  },
  {
   "cell_type": "code",
   "execution_count": 36,
   "metadata": {
    "scrolled": true
   },
   "outputs": [
    {
     "data": {
      "text/plain": [
       "['Casino Royale',\n",
       " 'Moonraker',\n",
       " 'The Spy Who Loved Me',\n",
       " 'From Russia with Love',\n",
       " 'Thunderball',\n",
       " 'A View to a Kill',\n",
       " 'Diamonds Are Forever',\n",
       " 'GoldenEye',\n",
       " 'Dr. No',\n",
       " 'Goldfinger',\n",
       " 'Octopussy',\n",
       " 'Skyfall',\n",
       " \"On Her Majesty's Secret Service\",\n",
       " 'Tomorrow Never Dies',\n",
       " 'The Living Daylights',\n",
       " 'Die Another Day',\n",
       " 'The World Is Not Enough',\n",
       " 'You Only Live Twice']"
      ]
     },
     "execution_count": 36,
     "metadata": {},
     "output_type": "execute_result"
    }
   ],
   "source": [
    "list(df[df['belongs_to_collection']=='645']['title'])"
   ]
  },
  {
   "cell_type": "code",
   "execution_count": 37,
   "metadata": {},
   "outputs": [],
   "source": [
    "df['is_james_bond'] = df['belongs_to_collection'].apply(lambda x:1 if x=='645' else 0)"
   ]
  },
  {
   "cell_type": "code",
   "execution_count": 38,
   "metadata": {},
   "outputs": [],
   "source": [
    "collection_score,fold_collection_score, fold_collection_count = get_revenue_dict(df,'belongs_to_collection')"
   ]
  },
  {
   "cell_type": "code",
   "execution_count": 39,
   "metadata": {},
   "outputs": [],
   "source": [
    "df['collection_target_encoding'] = df[['belongs_to_collection','fold']].apply(lambda x:get_category_score(x[0],x[1],collection_score,collection_counts,fold_collection_score,fold_collection_count,m_belongs_to_collection),axis=1)"
   ]
  },
  {
   "cell_type": "code",
   "execution_count": 40,
   "metadata": {},
   "outputs": [],
   "source": [
    "df = df.drop(['belongs_to_collection'], axis=1)"
   ]
  },
  {
   "cell_type": "markdown",
   "metadata": {},
   "source": [
    "<font size=\"4\" >\n",
    "    spoken_languages: \n",
    "</font>\n",
    "\n",
    "This feature includes the languages in which the movie is in. We transform it to a format of lists of the available languages and then to target encoding and produce one hot encoding for english and feature of number of spoken languages."
   ]
  },
  {
   "cell_type": "code",
   "execution_count": 41,
   "metadata": {
    "scrolled": false
   },
   "outputs": [
    {
     "data": {
      "text/plain": [
       "0       [{'iso_639_1': 'en', 'name': 'English'}, {'iso...\n",
       "1                [{'iso_639_1': 'en', 'name': 'English'}]\n",
       "2                [{'iso_639_1': 'en', 'name': 'English'}]\n",
       "3                [{'iso_639_1': 'en', 'name': 'English'}]\n",
       "4                [{'iso_639_1': 'en', 'name': 'English'}]\n",
       "                              ...                        \n",
       "5210            [{'iso_639_1': 'fr', 'name': 'Français'}]\n",
       "5211             [{'iso_639_1': 'en', 'name': 'English'}]\n",
       "5212             [{'iso_639_1': 'en', 'name': 'English'}]\n",
       "5213             [{'iso_639_1': 'en', 'name': 'English'}]\n",
       "5214             [{'iso_639_1': 'en', 'name': 'English'}]\n",
       "Name: spoken_languages, Length: 5215, dtype: object"
      ]
     },
     "execution_count": 41,
     "metadata": {},
     "output_type": "execute_result"
    }
   ],
   "source": [
    "df['spoken_languages']"
   ]
  },
  {
   "cell_type": "code",
   "execution_count": 42,
   "metadata": {},
   "outputs": [],
   "source": [
    "def get_languages_list(item):\n",
    "    item = ast.literal_eval(item)\n",
    "    languages = [language_dict['iso_639_1'] for language_dict in item]\n",
    "    return languages"
   ]
  },
  {
   "cell_type": "code",
   "execution_count": 43,
   "metadata": {},
   "outputs": [],
   "source": [
    "df['spoken_languages'] = df['spoken_languages'].apply(lambda x:get_languages_list(x))"
   ]
  },
  {
   "cell_type": "code",
   "execution_count": 44,
   "metadata": {},
   "outputs": [
    {
     "data": {
      "text/plain": [
       "0    [en, fr]\n",
       "1        [en]\n",
       "2        [en]\n",
       "3        [en]\n",
       "4        [en]\n",
       "Name: spoken_languages, dtype: object"
      ]
     },
     "execution_count": 44,
     "metadata": {},
     "output_type": "execute_result"
    }
   ],
   "source": [
    "df['spoken_languages'][:5]"
   ]
  },
  {
   "cell_type": "code",
   "execution_count": 45,
   "metadata": {},
   "outputs": [
    {
     "data": {
      "text/html": [
       "<div>\n",
       "<style scoped>\n",
       "    .dataframe tbody tr th:only-of-type {\n",
       "        vertical-align: middle;\n",
       "    }\n",
       "\n",
       "    .dataframe tbody tr th {\n",
       "        vertical-align: top;\n",
       "    }\n",
       "\n",
       "    .dataframe thead th {\n",
       "        text-align: right;\n",
       "    }\n",
       "</style>\n",
       "<table border=\"1\" class=\"dataframe\">\n",
       "  <thead>\n",
       "    <tr style=\"text-align: right;\">\n",
       "      <th></th>\n",
       "      <th>spoken_languages</th>\n",
       "      <th>revenue</th>\n",
       "    </tr>\n",
       "  </thead>\n",
       "  <tbody>\n",
       "    <tr>\n",
       "      <th>0</th>\n",
       "      <td>[en, fr]</td>\n",
       "      <td>890871626</td>\n",
       "    </tr>\n",
       "    <tr>\n",
       "      <th>1</th>\n",
       "      <td>[en]</td>\n",
       "      <td>154323</td>\n",
       "    </tr>\n",
       "    <tr>\n",
       "      <th>2</th>\n",
       "      <td>[en]</td>\n",
       "      <td>176236</td>\n",
       "    </tr>\n",
       "    <tr>\n",
       "      <th>3</th>\n",
       "      <td>[en]</td>\n",
       "      <td>14564027</td>\n",
       "    </tr>\n",
       "    <tr>\n",
       "      <th>4</th>\n",
       "      <td>[en]</td>\n",
       "      <td>61399552</td>\n",
       "    </tr>\n",
       "    <tr>\n",
       "      <th>...</th>\n",
       "      <td>...</td>\n",
       "      <td>...</td>\n",
       "    </tr>\n",
       "    <tr>\n",
       "      <th>5210</th>\n",
       "      <td>[fr]</td>\n",
       "      <td>345280</td>\n",
       "    </tr>\n",
       "    <tr>\n",
       "      <th>5211</th>\n",
       "      <td>[en]</td>\n",
       "      <td>30859000</td>\n",
       "    </tr>\n",
       "    <tr>\n",
       "      <th>5212</th>\n",
       "      <td>[en]</td>\n",
       "      <td>6100000</td>\n",
       "    </tr>\n",
       "    <tr>\n",
       "      <th>5213</th>\n",
       "      <td>[en]</td>\n",
       "      <td>72258126</td>\n",
       "    </tr>\n",
       "    <tr>\n",
       "      <th>5214</th>\n",
       "      <td>[en]</td>\n",
       "      <td>29000301</td>\n",
       "    </tr>\n",
       "  </tbody>\n",
       "</table>\n",
       "<p>5215 rows × 2 columns</p>\n",
       "</div>"
      ],
      "text/plain": [
       "     spoken_languages    revenue\n",
       "0            [en, fr]  890871626\n",
       "1                [en]     154323\n",
       "2                [en]     176236\n",
       "3                [en]   14564027\n",
       "4                [en]   61399552\n",
       "...               ...        ...\n",
       "5210             [fr]     345280\n",
       "5211             [en]   30859000\n",
       "5212             [en]    6100000\n",
       "5213             [en]   72258126\n",
       "5214             [en]   29000301\n",
       "\n",
       "[5215 rows x 2 columns]"
      ]
     },
     "execution_count": 45,
     "metadata": {},
     "output_type": "execute_result"
    }
   ],
   "source": [
    "df[['spoken_languages','revenue']]"
   ]
  },
  {
   "cell_type": "code",
   "execution_count": 46,
   "metadata": {},
   "outputs": [],
   "source": [
    "df['spoken_languages_amount'] = df['spoken_languages'].apply(lambda x: len(x))\n",
    "df['english_speaking'] = df['spoken_languages'].apply(lambda x: 1 if 'en' in x else 0)"
   ]
  },
  {
   "cell_type": "code",
   "execution_count": 47,
   "metadata": {},
   "outputs": [],
   "source": [
    "spoken_languages_count = get_frequency(df['spoken_languages'])"
   ]
  },
  {
   "cell_type": "code",
   "execution_count": 48,
   "metadata": {},
   "outputs": [],
   "source": [
    "df, spoken_languages_score = extract_target_encoding_features(df,'spoken_languages',spoken_languages_count,m_spoken_languages)"
   ]
  },
  {
   "cell_type": "code",
   "execution_count": 49,
   "metadata": {},
   "outputs": [],
   "source": [
    "df = df.drop(['spoken_languages'], axis=1)"
   ]
  },
  {
   "cell_type": "markdown",
   "metadata": {},
   "source": [
    "<font size=\"4\" >\n",
    "    genres: \n",
    "</font>"
   ]
  },
  {
   "cell_type": "code",
   "execution_count": 50,
   "metadata": {},
   "outputs": [],
   "source": [
    "def get_genres_list(item):\n",
    "    item = ast.literal_eval(item)\n",
    "    genres = [genre_dict['name'] for genre_dict in item]\n",
    "    return genres"
   ]
  },
  {
   "cell_type": "code",
   "execution_count": 51,
   "metadata": {},
   "outputs": [],
   "source": [
    "df['genres'] = df['genres'].apply(lambda x:get_genres_list(x))"
   ]
  },
  {
   "cell_type": "code",
   "execution_count": 52,
   "metadata": {},
   "outputs": [],
   "source": [
    "genres_by_movie = list(df['genres'])\n",
    "all_genres = set_from_lists(genres_by_movie)"
   ]
  },
  {
   "cell_type": "code",
   "execution_count": 53,
   "metadata": {},
   "outputs": [],
   "source": [
    "for genre in all_genres:\n",
    "    genre_binary = []\n",
    "    for movie in genres_by_movie:\n",
    "        if genre in movie:\n",
    "            genre_binary.append(1)\n",
    "        else:\n",
    "            genre_binary.append(0)\n",
    "    df[genre+'_movie'] = genre_binary"
   ]
  },
  {
   "cell_type": "code",
   "execution_count": 54,
   "metadata": {},
   "outputs": [],
   "source": [
    "df = df.drop(['genres'], axis=1)"
   ]
  },
  {
   "cell_type": "markdown",
   "metadata": {},
   "source": [
    "<font size=\"4\" >\n",
    "    Original_language: \n",
    "</font>"
   ]
  },
  {
   "cell_type": "code",
   "execution_count": 55,
   "metadata": {},
   "outputs": [],
   "source": [
    "top_languages = ['en','cn','de','es','fr','hi','it','ja','ko','ru','zh']"
   ]
  },
  {
   "cell_type": "code",
   "execution_count": 56,
   "metadata": {},
   "outputs": [],
   "source": [
    "for language in top_languages:\n",
    "    df[language+'_original'] = df['original_language'].apply(lambda x: 1 if x == language else 0 )"
   ]
  },
  {
   "cell_type": "code",
   "execution_count": 57,
   "metadata": {},
   "outputs": [],
   "source": [
    "language_counts = count_categories(df['original_language'])\n",
    "language_score,language_fold_score,language_fold_count = get_revenue_dict(df,'original_language')\n",
    "df['original_language_target_encoding'] = df[['original_language','fold']].apply(lambda x:get_category_score(x[0],x[1], language_score,language_counts,language_fold_score,language_fold_count,m_original_language),axis=1)"
   ]
  },
  {
   "cell_type": "code",
   "execution_count": 58,
   "metadata": {},
   "outputs": [],
   "source": [
    "df = df.drop(['original_language'], axis=1)"
   ]
  },
  {
   "cell_type": "markdown",
   "metadata": {},
   "source": [
    "<font size=\"4\" >\n",
    "    production companies: \n",
    "</font>"
   ]
  },
  {
   "cell_type": "code",
   "execution_count": 59,
   "metadata": {},
   "outputs": [],
   "source": [
    "def apperance_count(movie_list):\n",
    "    apperances = dict()\n",
    "    for movie in movie_list:\n",
    "        for participant in movie:\n",
    "            if participant not in apperances:\n",
    "                apperances[participant] = 0\n",
    "        apperances[participant] += 1\n",
    "    return apperances"
   ]
  },
  {
   "cell_type": "code",
   "execution_count": 60,
   "metadata": {},
   "outputs": [],
   "source": [
    "def get_companies_list(item):\n",
    "    item = ast.literal_eval(item)\n",
    "    companies = [companies_dict['name'] for companies_dict in item]\n",
    "    return companies"
   ]
  },
  {
   "cell_type": "code",
   "execution_count": 61,
   "metadata": {},
   "outputs": [],
   "source": [
    "df['production_companies'] = df['production_companies'].apply(lambda x:get_companies_list(x))"
   ]
  },
  {
   "cell_type": "code",
   "execution_count": 62,
   "metadata": {},
   "outputs": [],
   "source": [
    "df['production_companies_amount'] = df['production_companies'].apply(lambda x: len(x))"
   ]
  },
  {
   "cell_type": "code",
   "execution_count": 63,
   "metadata": {},
   "outputs": [],
   "source": [
    "companies_by_movie = list(df['production_companies'])\n",
    "all_companies = set_from_lists(companies_by_movie)"
   ]
  },
  {
   "cell_type": "code",
   "execution_count": 64,
   "metadata": {},
   "outputs": [],
   "source": [
    "companies = apperance_count(companies_by_movie)"
   ]
  },
  {
   "cell_type": "code",
   "execution_count": 65,
   "metadata": {},
   "outputs": [],
   "source": [
    "top_copanies = [company_name for company_name,apperences in companies.items() if apperences >= 10]"
   ]
  },
  {
   "cell_type": "code",
   "execution_count": 66,
   "metadata": {},
   "outputs": [],
   "source": [
    "top_company_per_movie = []\n",
    "for movie in companies_by_movie:\n",
    "    flag = False\n",
    "    for company in movie:\n",
    "        if company in top_copanies:\n",
    "            flag = True\n",
    "    top_company_per_movie.append(int(flag))"
   ]
  },
  {
   "cell_type": "code",
   "execution_count": 67,
   "metadata": {},
   "outputs": [],
   "source": [
    "df['top_production_company'] = top_company_per_movie"
   ]
  },
  {
   "cell_type": "code",
   "execution_count": 68,
   "metadata": {},
   "outputs": [],
   "source": [
    "production_comapny_count = get_frequency(df['production_companies'])"
   ]
  },
  {
   "cell_type": "code",
   "execution_count": 69,
   "metadata": {},
   "outputs": [],
   "source": [
    "df,production_comapny_score = extract_target_encoding_features(df,'production_companies',production_comapny_count,m_production_comapnies)"
   ]
  },
  {
   "cell_type": "code",
   "execution_count": 70,
   "metadata": {},
   "outputs": [],
   "source": [
    "df = df.drop(['production_companies'], axis=1)"
   ]
  },
  {
   "cell_type": "markdown",
   "metadata": {},
   "source": [
    "<font size=\"4\" >\n",
    "    production countries: \n",
    "</font>"
   ]
  },
  {
   "cell_type": "code",
   "execution_count": 71,
   "metadata": {},
   "outputs": [],
   "source": [
    "def get_countries_list(item):\n",
    "    item = ast.literal_eval(item)\n",
    "    countries = [countries_dict['name'] for countries_dict in item]\n",
    "    return countries"
   ]
  },
  {
   "cell_type": "code",
   "execution_count": 72,
   "metadata": {},
   "outputs": [],
   "source": [
    "df['production_countries'] = df['production_countries'].apply(lambda x:get_countries_list(x))"
   ]
  },
  {
   "cell_type": "code",
   "execution_count": 73,
   "metadata": {},
   "outputs": [],
   "source": [
    "country_by_movie = list(df['production_countries'])"
   ]
  },
  {
   "cell_type": "code",
   "execution_count": 74,
   "metadata": {},
   "outputs": [],
   "source": [
    "countries_count = apperance_count(country_by_movie)"
   ]
  },
  {
   "cell_type": "code",
   "execution_count": 75,
   "metadata": {},
   "outputs": [],
   "source": [
    "top_countries = [country for country in countries_count if countries_count[country] >= 150]"
   ]
  },
  {
   "cell_type": "code",
   "execution_count": 76,
   "metadata": {},
   "outputs": [],
   "source": [
    "top_country_per_movie = []\n",
    "american_production = []\n",
    "for movie in country_by_movie:\n",
    "    flag = False\n",
    "    american = False\n",
    "    for country in movie:\n",
    "        if country in top_countries:\n",
    "            flag = True\n",
    "        if country == 'United States of America':\n",
    "            american = True\n",
    "    top_country_per_movie.append(int(flag))\n",
    "    american_production.append(int(american))"
   ]
  },
  {
   "cell_type": "code",
   "execution_count": 77,
   "metadata": {},
   "outputs": [],
   "source": [
    "df['top_country'] = top_country_per_movie\n",
    "df['american_production'] = american_production"
   ]
  },
  {
   "cell_type": "code",
   "execution_count": 78,
   "metadata": {},
   "outputs": [],
   "source": [
    "country_count = get_frequency(df['production_countries'])\n",
    "df,countries_score = extract_target_encoding_features(df,'production_countries',country_count,m_country_count)"
   ]
  },
  {
   "cell_type": "code",
   "execution_count": 79,
   "metadata": {},
   "outputs": [],
   "source": [
    "df = df.drop(['production_countries'], axis=1)"
   ]
  },
  {
   "cell_type": "markdown",
   "metadata": {},
   "source": [
    "<font size=\"4\" >\n",
    "    cast: \n",
    "</font>"
   ]
  },
  {
   "cell_type": "code",
   "execution_count": 80,
   "metadata": {},
   "outputs": [],
   "source": [
    "def get_actors_list(item):\n",
    "    item = ast.literal_eval(item)\n",
    "    actors = [actor_dict['id'] for actor_dict in item]\n",
    "    return actors"
   ]
  },
  {
   "cell_type": "code",
   "execution_count": 81,
   "metadata": {},
   "outputs": [],
   "source": [
    "df['cast_list'] = df['cast'].apply(lambda x: get_actors_list(x))\n",
    "df['cast_size'] = df['cast'].apply(lambda x: len(x))"
   ]
  },
  {
   "cell_type": "code",
   "execution_count": 82,
   "metadata": {},
   "outputs": [],
   "source": [
    "cast_count = get_frequency(df['cast_list'])\n",
    "df,cast_score = extract_target_encoding_features(df,'cast_list',cast_count,m_cast)"
   ]
  },
  {
   "cell_type": "code",
   "execution_count": 83,
   "metadata": {},
   "outputs": [],
   "source": [
    "df = df.drop(['cast_list','cast'],axis=1)"
   ]
  },
  {
   "cell_type": "markdown",
   "metadata": {},
   "source": [
    "<font size=\"4\" >\n",
    "    crew: \n",
    "</font>"
   ]
  },
  {
   "cell_type": "code",
   "execution_count": 84,
   "metadata": {},
   "outputs": [],
   "source": [
    "def get_crew_member(item, job):\n",
    "    director = []\n",
    "    item = ast.literal_eval(item)\n",
    "    for crew_member in item:\n",
    "        if crew_member['job'] == job:\n",
    "            director.append(crew_member['id'])\n",
    "    return director"
   ]
  },
  {
   "cell_type": "code",
   "execution_count": 85,
   "metadata": {},
   "outputs": [],
   "source": [
    "df['director'] = df['crew'].apply(lambda x: get_crew_member(x, 'Director'))\n",
    "df['producer'] = df['crew'].apply(lambda x: get_crew_member(x, 'Producer'))\n",
    "df['crew_size'] = df['crew'].apply(lambda x: len(ast.literal_eval(x)))"
   ]
  },
  {
   "cell_type": "code",
   "execution_count": 86,
   "metadata": {},
   "outputs": [],
   "source": [
    "director_count = get_frequency(df['director'])\n",
    "df,director_score = extract_target_encoding_features(df,'director',director_count,m_director)\n",
    "producer_count = get_frequency(df['producer'])\n",
    "df,producer_score = extract_target_encoding_features(df,'producer',producer_count,m_producer)\n"
   ]
  },
  {
   "cell_type": "code",
   "execution_count": 87,
   "metadata": {},
   "outputs": [],
   "source": [
    "df = df.drop(['crew','director','producer'], axis=1)\n"
   ]
  },
  {
   "cell_type": "markdown",
   "metadata": {},
   "source": [
    "<font size=\"5\" >Text analysis:</font>\n",
    "\n",
    "There are 3 text features: title, overview, tagline.\n",
    "\n",
    "The text is preprocessed:\n",
    "* lowercase\n",
    "* puctuation removal \n",
    "* stemming\n",
    "\n",
    "We split the text to words and explore word frequencies.\n",
    "\n",
    "Now the words list are analysed as the multiple category variables."
   ]
  },
  {
   "cell_type": "code",
   "execution_count": 88,
   "metadata": {},
   "outputs": [],
   "source": [
    "stemmer = PorterStemmer()\n",
    "def text_preprocessing(sentence):\n",
    "    sentence = sentence.lower()\n",
    "    sentence = sentence.translate(str.maketrans('', '', string.punctuation))\n",
    "    words = [stemmer.stem(word) for word in sentence.split()]\n",
    "    return words"
   ]
  },
  {
   "cell_type": "markdown",
   "metadata": {},
   "source": [
    "<font size=\"4\" >title:</font>\n",
    "\n",
    "Title of movie"
   ]
  },
  {
   "cell_type": "code",
   "execution_count": 89,
   "metadata": {},
   "outputs": [
    {
     "data": {
      "text/plain": [
       "0                                     Spider-Man 3\n",
       "1                Silent Night, Deadly Night Part 2\n",
       "2       Scotty and the Secret History of Hollywood\n",
       "3                                       Hellraiser\n",
       "4                      National Lampoon's Vacation\n",
       "                           ...                    \n",
       "5210             La Cage aux Folles 3: The Wedding\n",
       "5211                  The Texas Chain Saw Massacre\n",
       "5212                                 Almost Heroes\n",
       "5213         Eternal Sunshine of the Spotless Mind\n",
       "5214                                      3 Ninjas\n",
       "Name: title, Length: 5215, dtype: object"
      ]
     },
     "execution_count": 89,
     "metadata": {},
     "output_type": "execute_result"
    }
   ],
   "source": [
    "df['title']"
   ]
  },
  {
   "cell_type": "code",
   "execution_count": 90,
   "metadata": {},
   "outputs": [],
   "source": [
    "df['title'] = df['title'].apply(lambda x:text_preprocessing(x))"
   ]
  },
  {
   "cell_type": "code",
   "execution_count": 91,
   "metadata": {},
   "outputs": [
    {
     "name": "stderr",
     "output_type": "stream",
     "text": [
      "[nltk_data] Downloading package stopwords to\n",
      "[nltk_data]     /home/student/nltk_data...\n",
      "[nltk_data]   Package stopwords is already up-to-date!\n"
     ]
    }
   ],
   "source": [
    "original_title_count = get_frequency(df['title'])\n",
    "\n",
    "nltk.download('stopwords')\n",
    "stop_words = set(stopwords.words('english')) \n",
    "\n",
    "original_title_count_stopwords = {word:count for word,count in original_title_count.items() if word not in stop_words}"
   ]
  },
  {
   "cell_type": "code",
   "execution_count": 92,
   "metadata": {},
   "outputs": [],
   "source": [
    "most_frequent = sorted(original_title_count_stopwords, key=original_title_count_stopwords.get, reverse=True)[:20]"
   ]
  },
  {
   "cell_type": "code",
   "execution_count": 93,
   "metadata": {},
   "outputs": [
    {
     "data": {
      "text/plain": [
       "([0, 1, 2, 3, 4, 5, 6, 7, 8, 9, 10, 11, 12, 13, 14, 15, 16, 17, 18, 19],\n",
       " <a list of 20 Text major ticklabel objects>)"
      ]
     },
     "execution_count": 93,
     "metadata": {},
     "output_type": "execute_result"
    },
    {
     "data": {
      "image/png": "[encoded data removed]",
      "text/plain": [
       "<Figure size 432x288 with 1 Axes>"
      ]
     },
     "metadata": {
      "needs_background": "light"
     },
     "output_type": "display_data"
    }
   ],
   "source": [
    "plt.bar(most_frequent, [original_title_count_stopwords[word] for word in most_frequent])\n",
    "plt.xticks(rotation=90)"
   ]
  },
  {
   "cell_type": "code",
   "execution_count": 94,
   "metadata": {},
   "outputs": [],
   "source": [
    "df,title_score = extract_target_encoding_features(df,'title',original_title_count,m_title)\n",
    "df = df.drop(['title','original_title'],axis=1)"
   ]
  },
  {
   "cell_type": "markdown",
   "metadata": {},
   "source": [
    "<font size=\"4\" >overview:</font>\n",
    "\n",
    "movie description"
   ]
  },
  {
   "cell_type": "code",
   "execution_count": 95,
   "metadata": {},
   "outputs": [
    {
     "data": {
      "text/plain": [
       "0       The seemingly invincible Spider-Man goes up ag...\n",
       "1       After being traumatized by his brother Billy's...\n",
       "2       A deliciously scandalous portrait of unsung Ho...\n",
       "3       An unfaithful wife encounters the zombie of he...\n",
       "4       Clark Griswold is on a quest to take his famil...\n",
       "                              ...                        \n",
       "5210    Third and final version of the La Cage aux Fol...\n",
       "5211    When Sally hears that her grandfather's grave ...\n",
       "5212    Two hapless explorers lead an ill-fated 1804 e...\n",
       "5213    Joel Barish, heartbroken that his girlfriend u...\n",
       "5214    Each year, three brothers Samuel, Jeffrey and ...\n",
       "Name: overview, Length: 5215, dtype: object"
      ]
     },
     "execution_count": 95,
     "metadata": {},
     "output_type": "execute_result"
    }
   ],
   "source": [
    "df['overview']"
   ]
  },
  {
   "cell_type": "code",
   "execution_count": 96,
   "metadata": {},
   "outputs": [
    {
     "data": {
      "text/plain": [
       "6"
      ]
     },
     "execution_count": 96,
     "metadata": {},
     "output_type": "execute_result"
    }
   ],
   "source": [
    "df['overview'].isna().sum()"
   ]
  },
  {
   "cell_type": "code",
   "execution_count": 97,
   "metadata": {},
   "outputs": [],
   "source": [
    "df['overview'] = df['overview'].replace(np.nan, '', regex=True)"
   ]
  },
  {
   "cell_type": "code",
   "execution_count": 98,
   "metadata": {},
   "outputs": [],
   "source": [
    "df['overview'] = df['overview'].apply(lambda x:text_preprocessing(x))"
   ]
  },
  {
   "cell_type": "code",
   "execution_count": 99,
   "metadata": {},
   "outputs": [],
   "source": [
    "overview_count = get_frequency(df['overview'])\n",
    "stop_words = set(stopwords.words('english')) \n",
    "overview_count_stopwords = {word:count for word,count in overview_count.items() if word not in stop_words}"
   ]
  },
  {
   "cell_type": "code",
   "execution_count": 100,
   "metadata": {},
   "outputs": [],
   "source": [
    "most_frequent = sorted(overview_count_stopwords, key=overview_count_stopwords.get, reverse=True)[:20]"
   ]
  },
  {
   "cell_type": "code",
   "execution_count": 101,
   "metadata": {},
   "outputs": [
    {
     "data": {
      "text/plain": [
       "([0, 1, 2, 3, 4, 5, 6, 7, 8, 9, 10, 11, 12, 13, 14, 15, 16, 17, 18, 19],\n",
       " <a list of 20 Text major ticklabel objects>)"
      ]
     },
     "execution_count": 101,
     "metadata": {},
     "output_type": "execute_result"
    },
    {
     "data": {
      "image/png": "[encoded data removed]",
      "text/plain": [
       "<Figure size 432x288 with 1 Axes>"
      ]
     },
     "metadata": {
      "needs_background": "light"
     },
     "output_type": "display_data"
    }
   ],
   "source": [
    "plt.bar(most_frequent, [overview_count_stopwords[word] for word in most_frequent])\n",
    "plt.xticks(rotation=90)"
   ]
  },
  {
   "cell_type": "code",
   "execution_count": 102,
   "metadata": {},
   "outputs": [],
   "source": [
    "df,overview_score = extract_target_encoding_features(df,'overview',overview_count,m_overview)\n",
    "df = df.drop(['overview'],axis=1)"
   ]
  },
  {
   "cell_type": "markdown",
   "metadata": {},
   "source": [
    "<font size=\"4\" >tagline:</font>\n",
    "\n",
    "movie slogen"
   ]
  },
  {
   "cell_type": "code",
   "execution_count": 103,
   "metadata": {},
   "outputs": [
    {
     "data": {
      "text/plain": [
       "0                                      The battle within.\n",
       "1              The nightmare is about to begin ... AGAIN!\n",
       "2                                                     NaN\n",
       "3                             He'll tear your soul apart.\n",
       "4       Every summer Chevy Chase takes his family on a...\n",
       "                              ...                        \n",
       "5210                                                  NaN\n",
       "5211      Who will survive and what will be left of them?\n",
       "5212    Almost History... Almost Legends... Mostly Rid...\n",
       "5213    You can erase someone from your mind. Getting ...\n",
       "5214    Crosses Teenage Mutant Ninja Turtles and Home ...\n",
       "Name: tagline, Length: 5215, dtype: object"
      ]
     },
     "execution_count": 103,
     "metadata": {},
     "output_type": "execute_result"
    }
   ],
   "source": [
    "df['tagline']"
   ]
  },
  {
   "cell_type": "code",
   "execution_count": 104,
   "metadata": {},
   "outputs": [
    {
     "data": {
      "text/plain": [
       "1025"
      ]
     },
     "execution_count": 104,
     "metadata": {},
     "output_type": "execute_result"
    }
   ],
   "source": [
    "df['tagline'].isna().sum()"
   ]
  },
  {
   "cell_type": "code",
   "execution_count": 105,
   "metadata": {},
   "outputs": [],
   "source": [
    "df['no_tagline'] = df['tagline'].isna().astype(int) # Add feature for missing taglines "
   ]
  },
  {
   "cell_type": "code",
   "execution_count": 106,
   "metadata": {},
   "outputs": [],
   "source": [
    "df['tagline'] = df['tagline'].replace(np.nan, '', regex=True)\n",
    "df['tagline'] = df['tagline'].apply(lambda x:text_preprocessing(x))\n",
    "tagline_count = get_frequency(df['tagline'])\n",
    "stop_words = set(stopwords.words('english')) \n",
    "tagline_count_stopwords = {word:count for word,count in tagline_count.items() if word not in stop_words}"
   ]
  },
  {
   "cell_type": "code",
   "execution_count": 107,
   "metadata": {},
   "outputs": [],
   "source": [
    "most_frequent = sorted(tagline_count_stopwords, key=tagline_count_stopwords.get, reverse=True)[:20]"
   ]
  },
  {
   "cell_type": "code",
   "execution_count": 108,
   "metadata": {},
   "outputs": [
    {
     "data": {
      "text/plain": [
       "([0, 1, 2, 3, 4, 5, 6, 7, 8, 9, 10, 11, 12, 13, 14, 15, 16, 17, 18, 19],\n",
       " <a list of 20 Text major ticklabel objects>)"
      ]
     },
     "execution_count": 108,
     "metadata": {},
     "output_type": "execute_result"
    },
    {
     "data": {
      "image/png": "[encoded data removed]",
      "text/plain": [
       "<Figure size 432x288 with 1 Axes>"
      ]
     },
     "metadata": {
      "needs_background": "light"
     },
     "output_type": "display_data"
    }
   ],
   "source": [
    "plt.bar(most_frequent, [tagline_count_stopwords[word] for word in most_frequent])\n",
    "plt.xticks(rotation=90)"
   ]
  },
  {
   "cell_type": "code",
   "execution_count": 109,
   "metadata": {},
   "outputs": [],
   "source": [
    "df,tagline_score = extract_target_encoding_features(df,'tagline',tagline_count,m_tagline)\n",
    "df = df.drop(['tagline'],axis=1)"
   ]
  },
  {
   "cell_type": "markdown",
   "metadata": {},
   "source": [
    "<font size=\"4\" >\n",
    "    budget:\n",
    "</font>\n",
    "\n",
    "Movie budget"
   ]
  },
  {
   "cell_type": "code",
   "execution_count": 110,
   "metadata": {},
   "outputs": [
    {
     "data": {
      "text/plain": [
       "0       258000000\n",
       "1          250000\n",
       "2               0\n",
       "3         1000000\n",
       "4        15000000\n",
       "          ...    \n",
       "5210            0\n",
       "5211        85000\n",
       "5212     30000000\n",
       "5213     20000000\n",
       "5214      6500000\n",
       "Name: budget, Length: 5215, dtype: int64"
      ]
     },
     "execution_count": 110,
     "metadata": {},
     "output_type": "execute_result"
    }
   ],
   "source": [
    "df['budget']"
   ]
  },
  {
   "cell_type": "code",
   "execution_count": 111,
   "metadata": {},
   "outputs": [
    {
     "data": {
      "text/plain": [
       "<matplotlib.axes._subplots.AxesSubplot at 0x7f1674797810>"
      ]
     },
     "execution_count": 111,
     "metadata": {},
     "output_type": "execute_result"
    },
    {
     "data": {
      "image/png": "[encoded data removed]",
      "text/plain": [
       "<Figure size 432x288 with 1 Axes>"
      ]
     },
     "metadata": {
      "needs_background": "light"
     },
     "output_type": "display_data"
    }
   ],
   "source": [
    "df['budget'].hist()"
   ]
  },
  {
   "cell_type": "markdown",
   "metadata": {},
   "source": [
    "<font size=\"4\" >\n",
    "    homepage:\n",
    "</font>\n",
    "\n",
    "Link to website, converted to boolean variable (is there a homepage)"
   ]
  },
  {
   "cell_type": "code",
   "execution_count": 112,
   "metadata": {},
   "outputs": [
    {
     "data": {
      "text/plain": [
       "0       https://www.sonypictures.com/movies/spiderman3\n",
       "1                                                  NaN\n",
       "2                         https://www.scottymovie.com/\n",
       "3                                                  NaN\n",
       "4                                                  NaN\n",
       "                             ...                      \n",
       "5210                                               NaN\n",
       "5211                                               NaN\n",
       "5212                                               NaN\n",
       "5213                    http://www.eternalsunshine.com\n",
       "5214                                               NaN\n",
       "Name: homepage, Length: 5215, dtype: object"
      ]
     },
     "execution_count": 112,
     "metadata": {},
     "output_type": "execute_result"
    }
   ],
   "source": [
    "df['homepage']"
   ]
  },
  {
   "cell_type": "code",
   "execution_count": 113,
   "metadata": {},
   "outputs": [
    {
     "data": {
      "text/plain": [
       "3449"
      ]
     },
     "execution_count": 113,
     "metadata": {},
     "output_type": "execute_result"
    }
   ],
   "source": [
    "df['homepage'].isna().sum()"
   ]
  },
  {
   "cell_type": "code",
   "execution_count": 114,
   "metadata": {},
   "outputs": [],
   "source": [
    "df['no_homepage'] = df['homepage'].isna().astype(int)"
   ]
  },
  {
   "cell_type": "code",
   "execution_count": 115,
   "metadata": {},
   "outputs": [],
   "source": [
    "df = df.drop('homepage', axis=1)"
   ]
  },
  {
   "cell_type": "markdown",
   "metadata": {},
   "source": [
    "<font size=\"4\" >\n",
    "    popularity:\n",
    "</font>\n",
    "\n",
    "Popularity of movie"
   ]
  },
  {
   "cell_type": "code",
   "execution_count": 116,
   "metadata": {},
   "outputs": [
    {
     "data": {
      "text/plain": [
       "0       22.024\n",
       "1        4.756\n",
       "2        4.746\n",
       "3       13.828\n",
       "4       15.070\n",
       "         ...  \n",
       "5210     3.050\n",
       "5211    11.580\n",
       "5212     7.946\n",
       "5213    19.693\n",
       "5214    10.913\n",
       "Name: popularity, Length: 5215, dtype: float64"
      ]
     },
     "execution_count": 116,
     "metadata": {},
     "output_type": "execute_result"
    }
   ],
   "source": [
    "df['popularity']"
   ]
  },
  {
   "cell_type": "code",
   "execution_count": 117,
   "metadata": {},
   "outputs": [
    {
     "data": {
      "text/plain": [
       "<matplotlib.axes._subplots.AxesSubplot at 0x7f16746d9dd0>"
      ]
     },
     "execution_count": 117,
     "metadata": {},
     "output_type": "execute_result"
    },
    {
     "data": {
      "image/png": "[encoded data removed]",
      "text/plain": [
       "<Figure size 432x288 with 1 Axes>"
      ]
     },
     "metadata": {
      "needs_background": "light"
     },
     "output_type": "display_data"
    }
   ],
   "source": [
    "df['popularity'].hist(bins=20)"
   ]
  },
  {
   "cell_type": "markdown",
   "metadata": {},
   "source": [
    "<font size=\"4\" >\n",
    "    runtime:\n",
    "</font>\n",
    "\n"
   ]
  },
  {
   "cell_type": "code",
   "execution_count": 118,
   "metadata": {},
   "outputs": [
    {
     "data": {
      "text/plain": [
       "0       139.0\n",
       "1        88.0\n",
       "2        98.0\n",
       "3        94.0\n",
       "4        99.0\n",
       "        ...  \n",
       "5210     87.0\n",
       "5211     83.0\n",
       "5212     90.0\n",
       "5213    108.0\n",
       "5214     84.0\n",
       "Name: runtime, Length: 5215, dtype: float64"
      ]
     },
     "execution_count": 118,
     "metadata": {},
     "output_type": "execute_result"
    }
   ],
   "source": [
    "df['runtime']"
   ]
  },
  {
   "cell_type": "code",
   "execution_count": 119,
   "metadata": {},
   "outputs": [
    {
     "data": {
      "text/plain": [
       "<matplotlib.axes._subplots.AxesSubplot at 0x7f1674636650>"
      ]
     },
     "execution_count": 119,
     "metadata": {},
     "output_type": "execute_result"
    },
    {
     "data": {
      "image/png": "[encoded data removed]",
      "text/plain": [
       "<Figure size 432x288 with 1 Axes>"
      ]
     },
     "metadata": {
      "needs_background": "light"
     },
     "output_type": "display_data"
    }
   ],
   "source": [
    "df['runtime'].hist(bins=20)"
   ]
  },
  {
   "cell_type": "code",
   "execution_count": 120,
   "metadata": {},
   "outputs": [
    {
     "data": {
      "text/plain": [
       "4"
      ]
     },
     "execution_count": 120,
     "metadata": {},
     "output_type": "execute_result"
    }
   ],
   "source": [
    "df['runtime'].isna().sum()"
   ]
  },
  {
   "cell_type": "code",
   "execution_count": 121,
   "metadata": {},
   "outputs": [],
   "source": [
    "df['runtime'] = df['runtime'].fillna(df['runtime'].mean())"
   ]
  },
  {
   "cell_type": "markdown",
   "metadata": {},
   "source": [
    "<font size=\"4\" >\n",
    "    status:\n",
    "</font>\n",
    "\n",
    "Only one category, removed from analysis"
   ]
  },
  {
   "cell_type": "code",
   "execution_count": 122,
   "metadata": {},
   "outputs": [
    {
     "data": {
      "text/plain": [
       "0       Released\n",
       "1       Released\n",
       "2       Released\n",
       "3       Released\n",
       "4       Released\n",
       "          ...   \n",
       "5210    Released\n",
       "5211    Released\n",
       "5212    Released\n",
       "5213    Released\n",
       "5214    Released\n",
       "Name: status, Length: 5215, dtype: object"
      ]
     },
     "execution_count": 122,
     "metadata": {},
     "output_type": "execute_result"
    }
   ],
   "source": [
    "df['status']"
   ]
  },
  {
   "cell_type": "code",
   "execution_count": 123,
   "metadata": {},
   "outputs": [
    {
     "data": {
      "text/plain": [
       "{'Released'}"
      ]
     },
     "execution_count": 123,
     "metadata": {},
     "output_type": "execute_result"
    }
   ],
   "source": [
    "set(df['status'])"
   ]
  },
  {
   "cell_type": "code",
   "execution_count": 124,
   "metadata": {},
   "outputs": [],
   "source": [
    "df = df.drop('status',axis=1)"
   ]
  },
  {
   "cell_type": "markdown",
   "metadata": {},
   "source": [
    "<font size=\"4\" >\n",
    "    video:\n",
    "</font>\n",
    "\n",
    "link to video"
   ]
  },
  {
   "cell_type": "code",
   "execution_count": 125,
   "metadata": {},
   "outputs": [
    {
     "data": {
      "text/plain": [
       "0       False\n",
       "1       False\n",
       "2       False\n",
       "3       False\n",
       "4       False\n",
       "        ...  \n",
       "5210    False\n",
       "5211    False\n",
       "5212    False\n",
       "5213    False\n",
       "5214    False\n",
       "Name: video, Length: 5215, dtype: bool"
      ]
     },
     "execution_count": 125,
     "metadata": {},
     "output_type": "execute_result"
    }
   ],
   "source": [
    "df['video']"
   ]
  },
  {
   "cell_type": "code",
   "execution_count": 126,
   "metadata": {},
   "outputs": [
    {
     "data": {
      "text/plain": [
       "dtype('bool')"
      ]
     },
     "execution_count": 126,
     "metadata": {},
     "output_type": "execute_result"
    }
   ],
   "source": [
    "df['video'].dtypes"
   ]
  },
  {
   "cell_type": "code",
   "execution_count": 127,
   "metadata": {},
   "outputs": [],
   "source": [
    "df['video'] = df['video'].astype(int)"
   ]
  },
  {
   "cell_type": "code",
   "execution_count": 128,
   "metadata": {},
   "outputs": [
    {
     "data": {
      "text/plain": [
       "18"
      ]
     },
     "execution_count": 128,
     "metadata": {},
     "output_type": "execute_result"
    }
   ],
   "source": [
    "len(df[df['video']==1])"
   ]
  },
  {
   "cell_type": "markdown",
   "metadata": {},
   "source": [
    "<font size=\"4\" >\n",
    "vote_average\n",
    "</font>"
   ]
  },
  {
   "cell_type": "code",
   "execution_count": 129,
   "metadata": {},
   "outputs": [
    {
     "data": {
      "text/plain": [
       "0       6.2\n",
       "1       4.3\n",
       "2       6.5\n",
       "3       6.9\n",
       "4       7.1\n",
       "       ... \n",
       "5210    4.7\n",
       "5211    7.3\n",
       "5212    5.6\n",
       "5213    8.1\n",
       "5214    5.7\n",
       "Name: vote_average, Length: 5215, dtype: float64"
      ]
     },
     "execution_count": 129,
     "metadata": {},
     "output_type": "execute_result"
    }
   ],
   "source": [
    "df['vote_average']"
   ]
  },
  {
   "cell_type": "code",
   "execution_count": 130,
   "metadata": {},
   "outputs": [
    {
     "data": {
      "text/plain": [
       "<matplotlib.axes._subplots.AxesSubplot at 0x7f1674564450>"
      ]
     },
     "execution_count": 130,
     "metadata": {},
     "output_type": "execute_result"
    },
    {
     "data": {
      "image/png": "[encoded data removed]",
      "text/plain": [
       "<Figure size 432x288 with 1 Axes>"
      ]
     },
     "metadata": {
      "needs_background": "light"
     },
     "output_type": "display_data"
    }
   ],
   "source": [
    "df['vote_average'].hist()"
   ]
  },
  {
   "cell_type": "markdown",
   "metadata": {},
   "source": [
    "vote_count"
   ]
  },
  {
   "cell_type": "code",
   "execution_count": 131,
   "metadata": {},
   "outputs": [
    {
     "data": {
      "text/plain": [
       "0       8180\n",
       "1         68\n",
       "2         15\n",
       "3       1115\n",
       "4        782\n",
       "        ... \n",
       "5210      29\n",
       "5211    1483\n",
       "5212      91\n",
       "5213    8753\n",
       "5214     240\n",
       "Name: vote_count, Length: 5215, dtype: int64"
      ]
     },
     "execution_count": 131,
     "metadata": {},
     "output_type": "execute_result"
    }
   ],
   "source": [
    "df['vote_count']"
   ]
  },
  {
   "cell_type": "code",
   "execution_count": 132,
   "metadata": {},
   "outputs": [
    {
     "data": {
      "text/plain": [
       "<matplotlib.axes._subplots.AxesSubplot at 0x7f16744d2310>"
      ]
     },
     "execution_count": 132,
     "metadata": {},
     "output_type": "execute_result"
    },
    {
     "data": {
      "image/png": "[encoded data removed]",
      "text/plain": [
       "<Figure size 432x288 with 1 Axes>"
      ]
     },
     "metadata": {
      "needs_background": "light"
     },
     "output_type": "display_data"
    }
   ],
   "source": [
    "df['vote_count'].hist()"
   ]
  },
  {
   "cell_type": "markdown",
   "metadata": {},
   "source": [
    "<font size=\"4\" >\n",
    "Keywords\n",
    "</font>"
   ]
  },
  {
   "cell_type": "code",
   "execution_count": 133,
   "metadata": {},
   "outputs": [
    {
     "data": {
      "text/plain": [
       "0       [{'id': 697, 'name': 'loss of loved one'}, {'i...\n",
       "1       [{'id': 65, 'name': 'holiday'}, {'id': 1991, '...\n",
       "2                        [{'id': 158718, 'name': 'lgbt'}]\n",
       "3       [{'id': 1449, 'name': 'underworld'}, {'id': 31...\n",
       "4       [{'id': 5493, 'name': 'relatives'}, {'id': 731...\n",
       "                              ...                        \n",
       "5210    [{'id': 237, 'name': 'gay'}, {'id': 824, 'name...\n",
       "5211    [{'id': 1420, 'name': 'gas station'}, {'id': 1...\n",
       "5212    [{'id': 1721, 'name': 'fight'}, {'id': 3930, '...\n",
       "5213    [{'id': 563, 'name': 'deja vu'}, {'id': 802, '...\n",
       "5214    [{'id': 380, 'name': 'sibling relationship'}, ...\n",
       "Name: Keywords, Length: 5215, dtype: object"
      ]
     },
     "execution_count": 133,
     "metadata": {},
     "output_type": "execute_result"
    }
   ],
   "source": [
    "df['Keywords']"
   ]
  },
  {
   "cell_type": "code",
   "execution_count": 134,
   "metadata": {},
   "outputs": [],
   "source": [
    "def get_Keywords_list(item):\n",
    "    item = ast.literal_eval(item)\n",
    "    Keywords = [Keyword_dict['name'] for Keyword_dict in item]\n",
    "    return Keywords"
   ]
  },
  {
   "cell_type": "code",
   "execution_count": 135,
   "metadata": {},
   "outputs": [],
   "source": [
    "df['Keywords'] = df['Keywords'].apply(lambda x: get_Keywords_list(x))"
   ]
  },
  {
   "cell_type": "code",
   "execution_count": 136,
   "metadata": {},
   "outputs": [
    {
     "data": {
      "text/plain": [
       "0       [loss of loved one, dual identity, amnesia, sa...\n",
       "1       [holiday, santa claus, sequel, murder, serial ...\n",
       "2                                                  [lgbt]\n",
       "3       [underworld, seduction, supernatural, revenge,...\n",
       "4       [relatives, road trip, domestic life, family v...\n",
       "                              ...                        \n",
       "5210                      [gay, drag queen, gay marriage]\n",
       "5211    [gas station, texas, van, midnight movie, leat...\n",
       "5212    [fight, bravery, slapstick, native american, b...\n",
       "5213    [deja vu, regret, jealousy, amnesia, dream, op...\n",
       "5214    [sibling relationship, hero, rivalry, rescue, ...\n",
       "Name: Keywords, Length: 5215, dtype: object"
      ]
     },
     "execution_count": 136,
     "metadata": {},
     "output_type": "execute_result"
    }
   ],
   "source": [
    "df['Keywords']"
   ]
  },
  {
   "cell_type": "code",
   "execution_count": 137,
   "metadata": {},
   "outputs": [],
   "source": [
    "Keywords_count = get_frequency(df['Keywords'])"
   ]
  },
  {
   "cell_type": "code",
   "execution_count": 138,
   "metadata": {},
   "outputs": [],
   "source": [
    "most_frequent = sorted(Keywords_count, key=Keywords_count.get, reverse=True)[:20]"
   ]
  },
  {
   "cell_type": "code",
   "execution_count": 139,
   "metadata": {},
   "outputs": [
    {
     "data": {
      "text/plain": [
       "([0, 1, 2, 3, 4, 5, 6, 7, 8, 9, 10, 11, 12, 13, 14, 15, 16, 17, 18, 19],\n",
       " <a list of 20 Text major ticklabel objects>)"
      ]
     },
     "execution_count": 139,
     "metadata": {},
     "output_type": "execute_result"
    },
    {
     "data": {
      "image/png": "[encoded data removed]",
      "text/plain": [
       "<Figure size 432x288 with 1 Axes>"
      ]
     },
     "metadata": {
      "needs_background": "light"
     },
     "output_type": "display_data"
    }
   ],
   "source": [
    "plt.bar(most_frequent, [Keywords_count[word] for word in most_frequent])\n",
    "plt.xticks(rotation=90)"
   ]
  },
  {
   "cell_type": "code",
   "execution_count": 140,
   "metadata": {},
   "outputs": [],
   "source": [
    "df,Keywords_score = extract_target_encoding_features(df,'Keywords',Keywords_count,m_keywords)"
   ]
  },
  {
   "cell_type": "code",
   "execution_count": 141,
   "metadata": {},
   "outputs": [],
   "source": [
    "df = df.drop(['Keywords'],axis=1)"
   ]
  },
  {
   "cell_type": "code",
   "execution_count": 142,
   "metadata": {},
   "outputs": [],
   "source": [
    "df = df.drop(['id','imdb_id','poster_path','fold','random_index'],axis=1)"
   ]
  },
  {
   "cell_type": "code",
   "execution_count": 143,
   "metadata": {},
   "outputs": [],
   "source": [
    "from sklearn.ensemble import RandomForestRegressor"
   ]
  },
  {
   "cell_type": "code",
   "execution_count": 144,
   "metadata": {},
   "outputs": [],
   "source": [
    "X = df.drop(['revenue','ln_revenue'],axis=1)\n",
    "Y = df['ln_revenue']"
   ]
  },
  {
   "cell_type": "code",
   "execution_count": 145,
   "metadata": {},
   "outputs": [],
   "source": [
    "columns_list = ['budget','popularity','runtime','video','vote_average','vote_count','release_year','release_month',\n",
    "       'no_collection','is_james_bond','spoken_languages_amount', 'english_speaking',\n",
    "       'Adventure_movie', 'TV Movie_movie', 'Mystery_movie', 'Fantasy_movie',\n",
    "       'Science Fiction_movie', 'Family_movie', 'Western_movie', 'War_movie',\n",
    "       'Animation_movie', 'Documentary_movie', 'Crime_movie', 'Thriller_movie',\n",
    "       'Music_movie', 'Action_movie', 'Romance_movie', 'History_movie',\n",
    "       'Horror_movie', 'Comedy_movie', 'Drama_movie', 'en_original',\n",
    "       'cn_original', 'de_original', 'es_original', 'fr_original',\n",
    "       'hi_original', 'it_original', 'ja_original', 'ko_original',\n",
    "       'ru_original', 'zh_original','production_companies_amount','top_production_company','top_country',\n",
    "       'american_production','cast_size','crew_size','no_tagline','no_homepage']\n",
    "       "
   ]
  },
  {
   "cell_type": "code",
   "execution_count": 146,
   "metadata": {},
   "outputs": [
    {
     "name": "stdout",
     "output_type": "stream",
     "text": [
      "0.5419588580275361\n",
      "0.03953503793263743\n",
      "\n"
     ]
    }
   ],
   "source": [
    "from sklearn.model_selection import cross_val_score\n",
    "X = X[columns_list]\n",
    "regr = RandomForestRegressor(max_depth=20,random_state=1)\n",
    "regr.fit(X, Y)\n",
    "scores = list(cross_val_score(regr, X, Y, cv=5))\n",
    "print(statistics.mean(scores))\n",
    "print(statistics.stdev(scores))\n",
    "print()"
   ]
  },
  {
   "cell_type": "markdown",
   "metadata": {},
   "source": [
    "<font size=\"5\" >Feature selection</font>\n",
    "\n",
    "We have a lot of target encoding features. \n",
    "We check which target encoding features improve the model enough with low variance between folds.\n",
    "We include only some of those in the final model."
   ]
  },
  {
   "cell_type": "code",
   "execution_count": 147,
   "metadata": {},
   "outputs": [
    {
     "name": "stdout",
     "output_type": "stream",
     "text": [
      "collection_target_encoding\n",
      "0.5426046914137981\n",
      "0.03791868249964827\n",
      "\n",
      "min_spoken_languages_score\n",
      "0.5410271772026218\n",
      "0.040513642120839195\n",
      "\n",
      "max_spoken_languages_score\n",
      "0.5392960224837051\n",
      "0.043094499509156094\n",
      "\n",
      "mean_spoken_languages_score\n",
      "0.539874983049783\n",
      "0.04222460729318608\n",
      "\n",
      "median_spoken_languages_score\n",
      "0.5395636722539932\n",
      "0.04070144677599558\n",
      "\n",
      "original_language_target_encoding\n",
      "0.5419973741985914\n",
      "0.0367518394115648\n",
      "\n",
      "min_production_companies_score\n",
      "0.5430732998260948\n",
      "0.03493599989454237\n",
      "\n",
      "max_production_companies_score\n",
      "0.540399483039861\n",
      "0.037488478097366676\n",
      "\n",
      "mean_production_companies_score\n",
      "0.5409360425120862\n",
      "0.038068393761795466\n",
      "\n",
      "median_production_companies_score\n",
      "0.5441606419595014\n",
      "0.04120476864596053\n",
      "\n",
      "min_production_countries_score\n",
      "0.5432769126573264\n",
      "0.0390964408490078\n",
      "\n",
      "max_production_countries_score\n",
      "0.5392552649990915\n",
      "0.038988816849922066\n",
      "\n",
      "mean_production_countries_score\n",
      "0.5412971751579752\n",
      "0.038697449545020565\n",
      "\n",
      "median_production_countries_score\n",
      "0.5426724275822167\n",
      "0.036037525394521035\n",
      "\n",
      "min_cast_list_score\n",
      "0.5403759088053156\n",
      "0.040060322131926354\n",
      "\n",
      "max_cast_list_score\n",
      "0.5390071538260621\n",
      "0.037660032862981155\n",
      "\n",
      "mean_cast_list_score\n",
      "0.5394441310597523\n",
      "0.039486401268240504\n",
      "\n",
      "median_cast_list_score\n",
      "0.5401554576647043\n",
      "0.03684260142426378\n",
      "\n",
      "min_director_score\n",
      "0.543394752238534\n",
      "0.03708986329014043\n",
      "\n",
      "max_director_score\n",
      "0.543556652066146\n",
      "0.037567281737019426\n",
      "\n",
      "mean_director_score\n",
      "0.543840178794736\n",
      "0.03757710323461927\n",
      "\n",
      "median_director_score\n",
      "0.5438866598535192\n",
      "0.03762436561323503\n",
      "\n",
      "min_producer_score\n",
      "0.5419768307733113\n",
      "0.03763919775924946\n",
      "\n",
      "max_producer_score\n",
      "0.5411137688474668\n",
      "0.03717325448520422\n",
      "\n",
      "mean_producer_score\n",
      "0.5418557081392296\n",
      "0.03823196642810249\n",
      "\n",
      "median_producer_score\n",
      "0.5424578259261289\n",
      "0.03766106412911259\n",
      "\n",
      "min_title_score\n",
      "0.5427189664804477\n",
      "0.03759888851727458\n",
      "\n",
      "max_title_score\n",
      "0.542158769342668\n",
      "0.037620529445138516\n",
      "\n",
      "mean_title_score\n",
      "0.5411146894683292\n",
      "0.04100398153725769\n",
      "\n",
      "median_title_score\n",
      "0.5397265410052353\n",
      "0.04102051074611479\n",
      "\n",
      "min_overview_score\n",
      "0.5431157332067981\n",
      "0.03696493721477341\n",
      "\n",
      "max_overview_score\n",
      "0.5417503773933022\n",
      "0.03875665000688845\n",
      "\n",
      "mean_overview_score\n",
      "0.5389614928011197\n",
      "0.03816804748219564\n",
      "\n",
      "median_overview_score\n",
      "0.5414067841482272\n",
      "0.03704935126481367\n",
      "\n",
      "min_tagline_score\n",
      "0.5433429096246796\n",
      "0.03875031979509366\n",
      "\n",
      "max_tagline_score\n",
      "0.5443853288177224\n",
      "0.038674869918433136\n",
      "\n",
      "mean_tagline_score\n",
      "0.5446758990272642\n",
      "0.03946525920044406\n",
      "\n",
      "median_tagline_score\n",
      "0.5410197597227958\n",
      "0.03930817773588244\n",
      "\n",
      "min_Keywords_score\n",
      "0.5428290988380942\n",
      "0.04119986439054024\n",
      "\n",
      "max_Keywords_score\n",
      "0.5439338255727839\n",
      "0.04105369821899254\n",
      "\n",
      "mean_Keywords_score\n",
      "0.5430327561871543\n",
      "0.039432987396239134\n",
      "\n",
      "median_Keywords_score\n",
      "0.5405526863033728\n",
      "0.04129265080547261\n",
      "\n"
     ]
    }
   ],
   "source": [
    "import statistics\n",
    "from sklearn.model_selection import cross_val_score\n",
    "feature_mean = {}\n",
    "feature_var = {}\n",
    "for feature in df.columns:\n",
    "    if feature not in columns_list and feature not in ['revenue','ln_revenue']:\n",
    "        X = df[columns_list+[feature]]\n",
    "        regr = RandomForestRegressor(max_depth=20, random_state=1)\n",
    "        regr.fit(X, Y)\n",
    "        scores = list(cross_val_score(regr, X, Y, cv=5))\n",
    "        print(feature)\n",
    "        feature_var[feature] = statistics.variance(scores)\n",
    "        feature_mean[feature] = statistics.mean(scores)\n",
    "        print(statistics.mean(scores))\n",
    "        print(statistics.stdev(scores))\n",
    "        print()"
   ]
  },
  {
   "cell_type": "code",
   "execution_count": 148,
   "metadata": {},
   "outputs": [],
   "source": [
    "columns_list = ['budget','popularity','runtime','video','vote_average','vote_count','release_year','release_month',\n",
    "       'no_collection','is_james_bond','spoken_languages_amount', 'english_speaking',\n",
    "       'Adventure_movie', 'TV Movie_movie', 'Mystery_movie', 'Fantasy_movie',\n",
    "       'Science Fiction_movie', 'Family_movie', 'Western_movie', 'War_movie',\n",
    "       'Animation_movie', 'Documentary_movie', 'Crime_movie', 'Thriller_movie',\n",
    "       'Music_movie', 'Action_movie', 'Romance_movie', 'History_movie',\n",
    "       'Horror_movie', 'Comedy_movie', 'Drama_movie', 'en_original',\n",
    "       'cn_original', 'de_original', 'es_original', 'fr_original',\n",
    "       'hi_original', 'it_original', 'ja_original', 'ko_original',\n",
    "       'ru_original', 'zh_original','production_companies_amount','top_production_company','top_country',\n",
    "       'american_production','cast_size','crew_size','no_tagline','no_homepage','max_Keywords_score','min_spoken_languages_score',\n",
    "        'collection_target_encoding','min_production_companies_score','mean_title_score','min_tagline_score']"
   ]
  },
  {
   "cell_type": "code",
   "execution_count": 149,
   "metadata": {},
   "outputs": [
    {
     "name": "stdout",
     "output_type": "stream",
     "text": [
      "0.5390265186995644\n",
      "0.041450885975351376\n",
      "\n"
     ]
    }
   ],
   "source": [
    "from sklearn.model_selection import cross_val_score\n",
    "X = df[columns_list]\n",
    "regr = RandomForestRegressor(max_depth=20, random_state=1)\n",
    "\n",
    "scores = list(cross_val_score(regr, X, Y, cv=5))\n",
    "print(statistics.mean(scores))\n",
    "print(statistics.stdev(scores))\n",
    "print()"
   ]
  },
  {
   "cell_type": "code",
   "execution_count": 150,
   "metadata": {},
   "outputs": [
    {
     "data": {
      "text/plain": [
       "RandomForestRegressor(bootstrap=True, ccp_alpha=0.0, criterion='mse',\n",
       "                      max_depth=20, max_features='auto', max_leaf_nodes=None,\n",
       "                      max_samples=None, min_impurity_decrease=0.0,\n",
       "                      min_impurity_split=None, min_samples_leaf=1,\n",
       "                      min_samples_split=2, min_weight_fraction_leaf=0.0,\n",
       "                      n_estimators=100, n_jobs=None, oob_score=False,\n",
       "                      random_state=1, verbose=0, warm_start=False)"
      ]
     },
     "execution_count": 150,
     "metadata": {},
     "output_type": "execute_result"
    }
   ],
   "source": [
    "regr = RandomForestRegressor(max_depth=20, random_state=1)\n",
    "regr.fit(X, Y)"
   ]
  },
  {
   "cell_type": "code",
   "execution_count": 151,
   "metadata": {},
   "outputs": [
    {
     "data": {
      "text/plain": [
       "[(9.706808894777038e-07, 'is_james_bond'),\n",
       " (0.00026063249822379025, 'hi_original'),\n",
       " (0.0003395769456564728, 'es_original'),\n",
       " (0.00037229727378342156, 'video'),\n",
       " (0.0004402583486793027, 'ru_original'),\n",
       " (0.0005119811684780308, 'cn_original'),\n",
       " (0.0007858737066528119, 'it_original'),\n",
       " (0.0008515408288257288, 'ko_original'),\n",
       " (0.0008624468979337933, 'ja_original'),\n",
       " (0.0012028075516322281, 'de_original'),\n",
       " (0.0012057048169752253, 'History_movie'),\n",
       " (0.0014349439968192894, 'Fantasy_movie'),\n",
       " (0.0015629707516471008, 'Animation_movie'),\n",
       " (0.0015901999639239862, 'TV Movie_movie'),\n",
       " (0.0016849112625441961, 'Documentary_movie'),\n",
       " (0.001723385433715559, 'zh_original'),\n",
       " (0.00190012820948522, 'War_movie'),\n",
       " (0.002000753787638834, 'Western_movie'),\n",
       " (0.0021052037458820032, 'Crime_movie'),\n",
       " (0.002126965191635307, 'Mystery_movie'),\n",
       " (0.0023003291766097336, 'english_speaking'),\n",
       " (0.002389304626121511, 'Romance_movie'),\n",
       " (0.002551040352606932, 'top_country'),\n",
       " (0.0026805153621339757, 'no_homepage'),\n",
       " (0.0032072067580645744, 'Thriller_movie'),\n",
       " (0.0034813013468831884, 'Adventure_movie'),\n",
       " (0.003483272166523131, 'no_tagline'),\n",
       " (0.003569994159962091, 'american_production'),\n",
       " (0.0036094781404200174, 'Music_movie'),\n",
       " (0.003701349343806705, 'Horror_movie'),\n",
       " (0.0037991340157966227, 'Action_movie'),\n",
       " (0.003843429269619746, 'Drama_movie'),\n",
       " (0.003974511686100547, 'Family_movie'),\n",
       " (0.004163260139024935, 'Comedy_movie'),\n",
       " (0.004461700024327749, 'Science Fiction_movie'),\n",
       " (0.004624019866062559, 'fr_original'),\n",
       " (0.004924628572588329, 'en_original'),\n",
       " (0.00588363279929541, 'collection_target_encoding'),\n",
       " (0.006934238218523005, 'spoken_languages_amount'),\n",
       " (0.009841292991799096, 'no_collection'),\n",
       " (0.013527228666651509, 'production_companies_amount'),\n",
       " (0.014830738391301534, 'top_production_company'),\n",
       " (0.01485879247444065, 'min_tagline_score'),\n",
       " (0.016297117322867895, 'release_month'),\n",
       " (0.016531626258574753, 'min_production_companies_score'),\n",
       " (0.023492075228253053, 'crew_size'),\n",
       " (0.023898199633830913, 'mean_title_score'),\n",
       " (0.027535495325990242, 'max_Keywords_score'),\n",
       " (0.028868766444124803, 'min_spoken_languages_score'),\n",
       " (0.035544758259256404, 'cast_size'),\n",
       " (0.03963112742895025, 'runtime'),\n",
       " (0.04140934447753187, 'vote_average'),\n",
       " (0.04773503692508785, 'popularity'),\n",
       " (0.057504890938023565, 'release_year'),\n",
       " (0.16890946337023954, 'vote_count'),\n",
       " (0.32303814677758363, 'budget')]"
      ]
     },
     "execution_count": 151,
     "metadata": {},
     "output_type": "execute_result"
    }
   ],
   "source": [
    "sorted([(importance,feature) for feature,importance in zip(list(X.columns),list(regr.feature_importances_))])"
   ]
  },
  {
   "cell_type": "markdown",
   "metadata": {},
   "source": [
    "<font size=\"5\" >\n",
    "Random Forest Hyperparameter tunning\n",
    " </font>\n",
    "  \n",
    "Since the loss is rmsle we train on the log(reveneu)"
   ]
  },
  {
   "cell_type": "code",
   "execution_count": null,
   "metadata": {},
   "outputs": [],
   "source": [
    "n_estimators = [200]\n",
    "# Number of features to consider at every split\n",
    "max_features = ['auto', 'sqrt']\n",
    "# Maximum number of levels in tree\n",
    "max_depth = [int(x) for x in np.linspace(10, 110, num = 5)]\n",
    "max_depth.append(None)\n",
    "# Minimum number of samples required to split a node\n",
    "min_samples_split = [2, 5, 10]\n",
    "# Minimum number of samples required at each leaf node\n",
    "min_samples_leaf = [1, 2, 4]\n",
    "# Method of selecting samples for training each tree\n",
    "bootstrap = [True, False]\n",
    "\n",
    "\n",
    "random_grid = {'n_estimators': n_estimators,\n",
    "               'max_features': max_features,\n",
    "               'max_depth': max_depth,\n",
    "               'min_samples_split': min_samples_split,\n",
    "               'min_samples_leaf': min_samples_leaf,\n",
    "               'bootstrap': bootstrap}\n",
    "print(random_grid)"
   ]
  },
  {
   "cell_type": "code",
   "execution_count": null,
   "metadata": {},
   "outputs": [],
   "source": [
    "from sklearn.model_selection import RandomizedSearchCV\n",
    "rf = RandomForestRegressor()\n",
    "rf_random = RandomizedSearchCV(estimator = rf, param_distributions = random_grid, n_iter = 100, cv = 5, verbose=2, random_state=42, n_jobs = -1)\n",
    "rf_random.fit(X, Y)"
   ]
  },
  {
   "cell_type": "code",
   "execution_count": null,
   "metadata": {},
   "outputs": [],
   "source": [
    "rf_random.best_params_"
   ]
  },
  {
   "cell_type": "code",
   "execution_count": null,
   "metadata": {},
   "outputs": [],
   "source": [
    "from sklearn.model_selection import cross_val_score\n",
    "regr = RandomForestRegressor(max_depth=110,min_samples_split=5, min_samples_leaf = 4 ,max_features='auto',bootstrap=True, random_state=1)\n",
    "regr.fit(X,Y)\n",
    "scores = list(cross_val_score(regr, X, Y, cv=5,scoring='neg_root_mean_squared_error'))\n",
    "print(statistics.mean(scores))\n",
    "print(statistics.stdev(scores))\n",
    "print()"
   ]
  },
  {
   "cell_type": "markdown",
   "metadata": {},
   "source": [
    "<font size=\"5\" >\n",
    "XGBoost Hyperparameter tunning\n",
    "</font>"
   ]
  },
  {
   "cell_type": "code",
   "execution_count": null,
   "metadata": {},
   "outputs": [],
   "source": [
    "import xgboost as xgb\n",
    "from sklearn.model_selection import RandomizedSearchCV\n",
    "from scipy.stats import uniform, randint\n",
    "\n",
    "xgb_model = xgb.XGBRegressor(objective=\"reg:squarederror\", random_state=42)"
   ]
  },
  {
   "cell_type": "code",
   "execution_count": null,
   "metadata": {},
   "outputs": [],
   "source": [
    "params = {\n",
    "    \"colsample_bytree\": uniform(0.7, 0.3),\n",
    "    \"gamma\": uniform(0, 0.5),\n",
    "    \"learning_rate\": uniform(0.03, 0.3), # default 0.1 \n",
    "    \"max_depth\": randint(2, 6), # default 3\n",
    "    \"n_estimators\": randint(100, 150), # default 100\n",
    "    \"subsample\": uniform(0.6, 0.4)\n",
    "}"
   ]
  },
  {
   "cell_type": "code",
   "execution_count": null,
   "metadata": {},
   "outputs": [],
   "source": [
    "search = RandomizedSearchCV(xgb_model, param_distributions=params, random_state=42, n_iter=200, cv=5, verbose=1, n_jobs=1, return_train_score=True)\n",
    "search.fit(X,Y)"
   ]
  },
  {
   "cell_type": "code",
   "execution_count": null,
   "metadata": {},
   "outputs": [],
   "source": [
    "final_params = search.best_params_"
   ]
  },
  {
   "cell_type": "code",
   "execution_count": null,
   "metadata": {},
   "outputs": [],
   "source": [
    "final_params"
   ]
  },
  {
   "cell_type": "code",
   "execution_count": null,
   "metadata": {},
   "outputs": [],
   "source": [
    "from sklearn.model_selection import cross_val_score\n",
    "xgboost_model = xgb.XGBRegressor(objective=\"reg:squarederror\",colsample_bytree=final_params['colsample_bytree'],\n",
    "                       gamma=final_params['gamma'],learning_rate=final_params['learning_rate'],\n",
    "                       max_depth=final_params['max_depth'],n_estimators=final_params['n_estimators'],\n",
    "                       subsample=final_params['subsample'], random_state=42)\n",
    "xgboost_model.fit(X,Y)\n",
    "scores = list(cross_val_score(xgboost_model, X, Y, cv=5,scoring='neg_root_mean_squared_error'))\n",
    "print(statistics.mean(scores))\n",
    "print(statistics.stdev(scores))\n",
    "print()"
   ]
  },
  {
   "cell_type": "code",
   "execution_count": null,
   "metadata": {},
   "outputs": [],
   "source": [
    "model_dict = {'model':xgboost_model,\n",
    "              'collection_score':collection_score,'collection_count':collection_counts,\n",
    "              'spoken_languages_score':spoken_languages_score,'spoken_languages_counts':spoken_languages_count,\n",
    "              'genres_list':all_genres,\n",
    "              'top_languages':top_languages,'languages_score':language_score,'languages_count':language_counts,\n",
    "              'top_companies':top_copanies,'production_comapnies_count':production_comapny_count,'production_comapnies_score':production_comapny_score,\n",
    "              'countries_count':country_count,'countries_score':countries_score,'top_countries':top_countries,\n",
    "              'cast_counts':cast_count,'cast_score':cast_score,\n",
    "              'producer_count':producer_count,'producer_score':producer_score,'director_count':director_count,'director_score':director_score,\n",
    "              'title_count':original_title_count,'title_score':title_score,\n",
    "              'overview_count':overview_count,'overview_score':overview_score,\n",
    "              'tagline_count':tagline_count,'tagline_score':tagline_score,\n",
    "              'key_words_count':Keywords_count,'Keywords_score':Keywords_score,\n",
    "             'average_revenue':average_revenue}\n"
   ]
  },
  {
   "cell_type": "code",
   "execution_count": null,
   "metadata": {},
   "outputs": [],
   "source": [
    "import pickle\n",
    "with open('model', 'wb') as f:\n",
    "    pickle.dump(model_dict, f)"
   ]
  }
 ],
 "metadata": {
  "kernelspec": {
   "display_name": "Python 3",
   "language": "python",
   "name": "python3"
  },
  "language_info": {
   "codemirror_mode": {
    "name": "ipython",
    "version": 3
   },
   "file_extension": ".py",
   "mimetype": "text/x-python",
   "name": "python",
   "nbconvert_exporter": "python",
   "pygments_lexer": "ipython3",
   "version": "3.7.7"
  }
 },
 "nbformat": 4,
 "nbformat_minor": 2
}
